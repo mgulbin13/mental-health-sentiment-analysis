{
 "cells": [
  {
   "cell_type": "markdown",
   "metadata": {},
   "source": [
    "# Mental Health Sentiment Analysis\n",
    "### Capstone Project for Flatiron School Data Science Program\n",
    "### By Matthew Gulbin"
   ]
  },
  {
   "cell_type": "markdown",
   "metadata": {},
   "source": [
    "For this project, I decided to research social media sentiment analysis, particularly through the lens of mental health. To that end, I trained machine learning models to try to predict mental health conditions (anxiety, depression, etc.) based on text input from a user. \n",
    "\n",
    "This project is made up primarily by two files: this notebook, where I performed the data cleaning, modeling, and tuning, and a Python file for a web app that I built using Streamlit that allows the user to enter text and receive a prediction from the model."
   ]
  },
  {
   "cell_type": "markdown",
   "metadata": {},
   "source": [
    "## Data Cleaning/Prep"
   ]
  },
  {
   "cell_type": "markdown",
   "metadata": {},
   "source": [
    "First, let's import our neccessary packages"
   ]
  },
  {
   "cell_type": "code",
   "execution_count": 3,
   "metadata": {},
   "outputs": [
    {
     "name": "stderr",
     "output_type": "stream",
     "text": [
      "/opt/anaconda3/envs/mental_health_proj/lib/python3.10/site-packages/tqdm/auto.py:21: TqdmWarning: IProgress not found. Please update jupyter and ipywidgets. See https://ipywidgets.readthedocs.io/en/stable/user_install.html\n",
      "  from .autonotebook import tqdm as notebook_tqdm\n"
     ]
    }
   ],
   "source": [
    "import pandas as pd\n",
    "import nltk\n",
    "import torch\n",
    "from datasets import Dataset\n",
    "from transformers import BertTokenizer\n",
    "import numpy as np\n",
    "from sklearn.model_selection import train_test_split"
   ]
  },
  {
   "cell_type": "markdown",
   "metadata": {},
   "source": [
    "Read the data to a dataframe from the file"
   ]
  },
  {
   "cell_type": "code",
   "execution_count": 2,
   "metadata": {},
   "outputs": [],
   "source": [
    "df = pd.read_csv(\"./data/Combined Data.csv\", index_col=0)"
   ]
  },
  {
   "cell_type": "code",
   "execution_count": 3,
   "metadata": {},
   "outputs": [
    {
     "data": {
      "application/vnd.microsoft.datawrangler.viewer.v0+json": {
       "columns": [
        {
         "name": "index",
         "rawType": "int64",
         "type": "integer"
        },
        {
         "name": "statement",
         "rawType": "object",
         "type": "unknown"
        },
        {
         "name": "status",
         "rawType": "object",
         "type": "string"
        }
       ],
       "conversionMethod": "pd.DataFrame",
       "ref": "1bce9bae-98b6-440f-8e4d-a49011a02c19",
       "rows": [
        [
         "0",
         "oh my gosh",
         "Anxiety"
        ],
        [
         "1",
         "trouble sleeping, confused mind, restless heart. All out of tune",
         "Anxiety"
        ],
        [
         "2",
         "All wrong, back off dear, forward doubt. Stay in a restless and restless place",
         "Anxiety"
        ],
        [
         "3",
         "I've shifted my focus to something else but I'm still worried",
         "Anxiety"
        ],
        [
         "4",
         "I'm restless and restless, it's been a month now, boy. What do you mean?",
         "Anxiety"
        ],
        [
         "5",
         "every break, you must be nervous, like something is wrong, but what the heck",
         "Anxiety"
        ],
        [
         "6",
         "I feel scared, anxious, what can I do? And may my family or us be protected :)",
         "Anxiety"
        ],
        [
         "7",
         "Have you ever felt nervous but didn't know why?",
         "Anxiety"
        ],
        [
         "8",
         "I haven't slept well for 2 days, it's like I'm restless. why huh :([].",
         "Anxiety"
        ],
        [
         "9",
         "I'm really worried, I want to cry.",
         "Anxiety"
        ],
        [
         "10",
         "always restless every night, even though I don't know why, what's wrong. strange.",
         "Anxiety"
        ],
        [
         "11",
         "I'm confused, I'm not feeling good lately. Every time I want to sleep, I always feel restless",
         "Anxiety"
        ],
        [
         "12",
         "sometimes what is needed when there is a problem is to laugh until you forget that there is a problem, when you remember it, you feel restless like that well, it turns out that I still have a sad burden blah blah blah",
         "Anxiety"
        ],
        [
         "13",
         "Because this worry is you.",
         "Anxiety"
        ],
        [
         "14",
         "Sometimes it's your own thoughts that make you anxious and afraid to close your eyes until you don't sleep",
         "Anxiety"
        ],
        [
         "15",
         "Every time I wake up, I'm definitely nervous and excited, until when are you going to try ™‚",
         "Anxiety"
        ],
        [
         "16",
         "I can only hope, even though I'm worried if it starts like this....",
         "Anxiety"
        ],
        [
         "17",
         "restive = restless, restless",
         "Anxiety"
        ],
        [
         "18",
         "\"No regrets or grudges/angry at things that have passed, and not worrying too much about the future, that's true serenity.\"",
         "Anxiety"
        ],
        [
         "19",
         "If the guy is sick, the girl actually feels sick indirectly. He must be feeling restless and restless. :')",
         "Anxiety"
        ],
        [
         "20",
         "I've been the most anxious person before I became the most sincere person, I've also been the most worried person before it all ended",
         "Anxiety"
        ],
        [
         "21",
         "Successfully online at 9am. Even sleeping in a state of restlessness what is wrong with me",
         "Anxiety"
        ],
        [
         "22",
         "Can't sleep. Just restless by nature",
         "Anxiety"
        ],
        [
         "23",
         "Already worried about picking up the phone",
         "Anxiety"
        ],
        [
         "24",
         "a little restless. a little restless. always feel guilty. sorry if i can't be the best as i've been :'",
         "Anxiety"
        ],
        [
         "25",
         "I've been so restless since this morning",
         "Anxiety"
        ],
        [
         "26",
         "it makes you feel restless",
         "Anxiety"
        ],
        [
         "27",
         "Sleepy but restless when you sleep",
         "Anxiety"
        ],
        [
         "28",
         "Why is this cave... I'm already in a bad mood and then my heart seems to be beating really fast... I'm really nervous. Is there something wrong???",
         "Anxiety"
        ],
        [
         "29",
         "He is very busy, He is restless, geez, what's going on?",
         "Anxiety"
        ],
        [
         "30",
         "I'm broken and fragile, I'm hurt, I can't stand the anxiety anymore, I can't stand the love. Until now I was ignored, not seen, even left far away. I'm not like what he wants, so I'll just step back.",
         "Anxiety"
        ],
        [
         "31",
         "# Suggest a song that makes you calm, don't know why suddenly this feeling of anger / restlessness appears. Thanks!",
         "Anxiety"
        ],
        [
         "32",
         "Terooosss nervous huuuu",
         "Anxiety"
        ],
        [
         "33",
         "why today's heart doesn't feel good..jealous?.anxious?.disappointed?.feeling failed?",
         "Anxiety"
        ],
        [
         "34",
         "It's a habit from elementary school if I think about something I'll get worried I can't sleep",
         "Anxiety"
        ],
        [
         "35",
         "Since yesterday yesterday, I have not been in the mood, very sensitive, feeling restless, always surprised and many surprises every day that almost make my brain explode, everyone is the target of ups and downs in mood. But today I feel very grateful that this lecture drama is over.",
         "Anxiety"
        ],
        [
         "36",
         "Tonight he continues to chatter about money, I'm so confused what to do. Once he said don't worry about money, but he kept blabbering about money.",
         "Anxiety"
        ],
        [
         "37",
         "Feeling so restless lately.",
         "Anxiety"
        ],
        [
         "38",
         "Oh god I'm restless",
         "Anxiety"
        ],
        [
         "39",
         "but my heart is still restless even though my mouth is talking",
         "Anxiety"
        ],
        [
         "40",
         "waiting for uncertainty, please be anxious",
         "Anxiety"
        ],
        [
         "41",
         "been the most anxious person, before becoming the most sincere person",
         "Anxiety"
        ],
        [
         "42",
         "Did you ever read it when you read it to RL, I mean the atmosphere, the taste. It's because I'm like this. when I read au, the topic was about mental illness ™ my days became restless....and now I'm scared.",
         "Anxiety"
        ],
        [
         "43",
         "Hi, I want to tell you... Lately I've been feeling restless, have trouble sleeping, I searched on google it says it's a mild symptom of depression, I used to tell my mom a psychologist friend \"don't think too much, it's not important you get depressed easily\" then I frequent irregular breathing.",
         "Anxiety"
        ],
        [
         "44",
         "I've been feeling restless for the past few days, now I'm nauseous, like someone...",
         "Anxiety"
        ],
        [
         "45",
         "Oh no I'm restless. The time will come. I walk with Jesus. Then my heart is calm.. Every time I sing a song I don't know, tomorrow in this section I always want to cry . Because I sing it but I don't do it . Sorry God I worry too much ️",
         "Anxiety"
        ],
        [
         "46",
         "Controlling anxiety is not as easy as it sounds.",
         "Anxiety"
        ],
        [
         "47",
         "Since the pandemic, I haven't opened my laptop for a day, I feel restless, I have a very heavy life load",
         "Anxiety"
        ],
        [
         "48",
         "People who are restless and afraid can be seen from the frequent touching of the face and ringing the fingers.",
         "Anxiety"
        ],
        [
         "49",
         "I don't know if my mind breaks down, but I don't want to think about it :( , why do I feel restless?",
         "Anxiety"
        ]
       ],
       "shape": {
        "columns": 2,
        "rows": 53043
       }
      },
      "text/html": [
       "<div>\n",
       "<style scoped>\n",
       "    .dataframe tbody tr th:only-of-type {\n",
       "        vertical-align: middle;\n",
       "    }\n",
       "\n",
       "    .dataframe tbody tr th {\n",
       "        vertical-align: top;\n",
       "    }\n",
       "\n",
       "    .dataframe thead th {\n",
       "        text-align: right;\n",
       "    }\n",
       "</style>\n",
       "<table border=\"1\" class=\"dataframe\">\n",
       "  <thead>\n",
       "    <tr style=\"text-align: right;\">\n",
       "      <th></th>\n",
       "      <th>statement</th>\n",
       "      <th>status</th>\n",
       "    </tr>\n",
       "  </thead>\n",
       "  <tbody>\n",
       "    <tr>\n",
       "      <th>0</th>\n",
       "      <td>oh my gosh</td>\n",
       "      <td>Anxiety</td>\n",
       "    </tr>\n",
       "    <tr>\n",
       "      <th>1</th>\n",
       "      <td>trouble sleeping, confused mind, restless hear...</td>\n",
       "      <td>Anxiety</td>\n",
       "    </tr>\n",
       "    <tr>\n",
       "      <th>2</th>\n",
       "      <td>All wrong, back off dear, forward doubt. Stay ...</td>\n",
       "      <td>Anxiety</td>\n",
       "    </tr>\n",
       "    <tr>\n",
       "      <th>3</th>\n",
       "      <td>I've shifted my focus to something else but I'...</td>\n",
       "      <td>Anxiety</td>\n",
       "    </tr>\n",
       "    <tr>\n",
       "      <th>4</th>\n",
       "      <td>I'm restless and restless, it's been a month n...</td>\n",
       "      <td>Anxiety</td>\n",
       "    </tr>\n",
       "    <tr>\n",
       "      <th>...</th>\n",
       "      <td>...</td>\n",
       "      <td>...</td>\n",
       "    </tr>\n",
       "    <tr>\n",
       "      <th>53038</th>\n",
       "      <td>Nobody takes me seriously I’ve (24M) dealt wit...</td>\n",
       "      <td>Anxiety</td>\n",
       "    </tr>\n",
       "    <tr>\n",
       "      <th>53039</th>\n",
       "      <td>selfishness  \"I don't feel very good, it's lik...</td>\n",
       "      <td>Anxiety</td>\n",
       "    </tr>\n",
       "    <tr>\n",
       "      <th>53040</th>\n",
       "      <td>Is there any way to sleep better? I can't slee...</td>\n",
       "      <td>Anxiety</td>\n",
       "    </tr>\n",
       "    <tr>\n",
       "      <th>53041</th>\n",
       "      <td>Public speaking tips? Hi, all. I have to give ...</td>\n",
       "      <td>Anxiety</td>\n",
       "    </tr>\n",
       "    <tr>\n",
       "      <th>53042</th>\n",
       "      <td>I have really bad door anxiety! It's not about...</td>\n",
       "      <td>Anxiety</td>\n",
       "    </tr>\n",
       "  </tbody>\n",
       "</table>\n",
       "<p>53043 rows × 2 columns</p>\n",
       "</div>"
      ],
      "text/plain": [
       "                                               statement   status\n",
       "0                                             oh my gosh  Anxiety\n",
       "1      trouble sleeping, confused mind, restless hear...  Anxiety\n",
       "2      All wrong, back off dear, forward doubt. Stay ...  Anxiety\n",
       "3      I've shifted my focus to something else but I'...  Anxiety\n",
       "4      I'm restless and restless, it's been a month n...  Anxiety\n",
       "...                                                  ...      ...\n",
       "53038  Nobody takes me seriously I’ve (24M) dealt wit...  Anxiety\n",
       "53039  selfishness  \"I don't feel very good, it's lik...  Anxiety\n",
       "53040  Is there any way to sleep better? I can't slee...  Anxiety\n",
       "53041  Public speaking tips? Hi, all. I have to give ...  Anxiety\n",
       "53042  I have really bad door anxiety! It's not about...  Anxiety\n",
       "\n",
       "[53043 rows x 2 columns]"
      ]
     },
     "execution_count": 3,
     "metadata": {},
     "output_type": "execute_result"
    }
   ],
   "source": [
    "df"
   ]
  },
  {
   "cell_type": "code",
   "execution_count": 4,
   "metadata": {},
   "outputs": [
    {
     "data": {
      "text/plain": [
       "status\n",
       "Normal                  0.308259\n",
       "Depression              0.290406\n",
       "Suicidal                0.200837\n",
       "Anxiety                 0.073299\n",
       "Bipolar                 0.054239\n",
       "Stress                  0.050318\n",
       "Personality disorder    0.022642\n",
       "Name: proportion, dtype: float64"
      ]
     },
     "execution_count": 4,
     "metadata": {},
     "output_type": "execute_result"
    }
   ],
   "source": [
    "df['status'].value_counts(normalize=True)"
   ]
  },
  {
   "cell_type": "markdown",
   "metadata": {},
   "source": [
    "Now we'll do data cleaning. First we'll drop all of the nulls"
   ]
  },
  {
   "cell_type": "code",
   "execution_count": 4,
   "metadata": {},
   "outputs": [],
   "source": [
    "df = df.dropna()"
   ]
  },
  {
   "cell_type": "markdown",
   "metadata": {},
   "source": [
    "Now let's save all of the possible statuses to a list, and create dictionaries mapping them to ids and back"
   ]
  },
  {
   "cell_type": "code",
   "execution_count": 5,
   "metadata": {},
   "outputs": [
    {
     "data": {
      "text/plain": [
       "['Anxiety',\n",
       " 'Normal',\n",
       " 'Depression',\n",
       " 'Suicidal',\n",
       " 'Stress',\n",
       " 'Bipolar',\n",
       " 'Personality disorder']"
      ]
     },
     "execution_count": 5,
     "metadata": {},
     "output_type": "execute_result"
    }
   ],
   "source": [
    "labels = df['status'].unique().tolist()\n",
    "labels"
   ]
  },
  {
   "cell_type": "code",
   "execution_count": 6,
   "metadata": {},
   "outputs": [
    {
     "data": {
      "text/plain": [
       "'Suicidal'"
      ]
     },
     "execution_count": 6,
     "metadata": {},
     "output_type": "execute_result"
    }
   ],
   "source": [
    "label_to_id = {label: i for i, label in enumerate(labels)}\n",
    "id_to_label = {i: label for i, label in enumerate(labels)}\n",
    "\n",
    "label_to_id['Suicidal']\n",
    "id_to_label[3]"
   ]
  },
  {
   "cell_type": "code",
   "execution_count": 7,
   "metadata": {},
   "outputs": [
    {
     "name": "stderr",
     "output_type": "stream",
     "text": [
      "/var/folders/4s/pf1zdv_x4_qcflpq4m943q0m0000gn/T/ipykernel_61897/1510116700.py:1: SettingWithCopyWarning: \n",
      "A value is trying to be set on a copy of a slice from a DataFrame.\n",
      "Try using .loc[row_indexer,col_indexer] = value instead\n",
      "\n",
      "See the caveats in the documentation: https://pandas.pydata.org/pandas-docs/stable/user_guide/indexing.html#returning-a-view-versus-a-copy\n",
      "  df['status'] = df['status'].apply(lambda x : label_to_id[str(x)])\n"
     ]
    }
   ],
   "source": [
    "df['status'] = df['status'].apply(lambda x : label_to_id[str(x)])"
   ]
  },
  {
   "cell_type": "markdown",
   "metadata": {},
   "source": [
    "Let's format the dataframe so that it's compatable with huggingface"
   ]
  },
  {
   "cell_type": "code",
   "execution_count": 9,
   "metadata": {},
   "outputs": [
    {
     "data": {
      "application/vnd.microsoft.datawrangler.viewer.v0+json": {
       "columns": [
        {
         "name": "index",
         "rawType": "int64",
         "type": "integer"
        },
        {
         "name": "text",
         "rawType": "object",
         "type": "string"
        },
        {
         "name": "labels",
         "rawType": "int64",
         "type": "integer"
        }
       ],
       "conversionMethod": "pd.DataFrame",
       "ref": "541ed535-a88f-423b-8713-ad8163d0751a",
       "rows": [
        [
         "3008",
         "I'm lazy to complain about it ba ihh",
         "1"
        ],
        [
         "44705",
         "i think the wifi on my iphone is broken it will quot connect quot but when i actually have to use it that s another story",
         "1"
        ],
        [
         "50186",
         "Good tracking apps? I've been trying to find apps to track not just my overall mood but more so symptoms as I'm currently in a mixed episode. Every app I've installed asks you for your overall mood of the day but currently I'm going from 0 to 100 multiple times during the day and also experiencing symptoms of mania and depression at the same time. Does anyone know of any apps that will be good at tracking this?",
         "5"
        ],
        [
         "13755",
         "I have recently looked into reddit and found that this place is actually quite healthy and supportive... I did not know this place really existed... but anyways I have very little motivation to work my way up the employment ladder whether its for a career or min wage job... as I feel so very few careers are really interested in helping people. I am an out of the box thinker and I know most jobs will slice my head if I try quacking about maybe we can serve people first and then profit second...I do not think I have much to say, but I look very young for 26 and it seems that is a turn off for most girls. I initially tried being a psych communications major in college but dropped out as someone in a way handed me a red pill. Since about 6 years ago since that happened, I have been studying different sources on the internet to help me perform at my best if there ever was an opportunity that did not require a degree. But I have little faith and try to make creations and upload maybe assist others in some meaningful way and also make a return. ANYWAYYYSSSSSS I know my story does not sound so bad and I think a big chunk of life is how we perceive things versus how they actually are. I do not have a motivation to get a car or a job because my god mother pays for the rent and allows me free time to make creations, but I do not have a circle of friends that is interested in what I have to share. So I am wondering how I can make money with my stuff without paying for ads or self-promoting. I have asked myself how can I honestly make connections if I do not promote? Some people say offer your work for free and I do offer some stuff for free, but it is quite impersonal type of work and people these days are looking to eat up as much emotion as they can in order to fuel a like or a subscribe reaction. For some reason, I try to stay as impersonal as possible with all my work and it seems to kind of work against me in this type of culture. I am not very attached to specific beliefs or ideas.... so it seems like that is a free ticket for capitalism to rape me.... if this is my destiny.... then what can I do? I have thought about dying voluntarily from malnutrition going out into a rural area and just letting go from there.... but that would be a tough way to go it seems but that could also be a perception. I am not very suicidal to be honest but it comes up. But anyways, I do not really ever share this stuff and I am sorry if it sounds like I am messed up. I am not going to get help if you think I need it. I consider myself kind of an anti-capitalist/materialist but do like small talk and jokes... if anyone of any gender would like to talk and maybe become friends or just talk for a short while without small talk, you would not be ghosted. End: I really do not like how our problems in society are so obvious and yet people play fucking dumb when realizing when someone is having issues... they must be really fucking hurting if they are playing that low... there must be another level of empathy above where I am at if I cannot see that these people are actually hurting inside, but they do a good damn job of putting a smile on their face and saying another day another dollar. PS. The matrix is one of my favorite movies. 26m no degree, no job, no car, no money, live in basement / tl:dr",
         "2"
        ],
        [
         "32298",
         "that's your favorite thing to do?",
         "1"
        ],
        [
         "14408",
         "I have enough goodies to play santa claus but no reindeer came my way so slay me and maybe I will have a good day I am totally alone and would like someone to share life stories no fear, send each other pics and links",
         "3"
        ],
        [
         "2536",
         "want to sleep but soon the call to prayer for midday :( . heavy sleepy",
         "1"
        ],
        [
         "33382",
         "you use them to wipe the handle of the shopping cart.",
         "1"
        ],
        [
         "48989",
         "Is it good to only focus on 1 goal? What I mean is, for example I have these goals:\n\n1. Find a good job OR start and grow a succesful company\n2. Find the one who will marry me in the future\n3. Find out which religion is the true one / read the whole bible\n\nSo my idea is, I will only work towards one goal at the same time. If I choose goal 1 and I choose to study or gain work experience, then I will not read the bible and I will not be on dating apps, because I should not overwhelm myself and risk a burn-out. If I choose goal 2, I will be very busy with dating apps and alternatives, but I will not have a job and I will not be studying. If I choose 3, I will read the bible a few hours every day, but I will not do any other productive things.\n\nWhat is the good side of this by my own thought?\n\n1. Whichever goal is the most important one, OR has to be completed the fastest, can get priority and full focus :)\n2. By only having one thing to work on, you have less risk of ending up with 0 free time, so you can avoid burn-out and instead, work at your own pace. (careful: do not get lazy)\n\nWhat is the bad side of this by my own thought?\n\n1. Spending hours everyday on the same goal only, can become boring. Some goals also do not require many hours every day: for example going to the gym. Being in the gym for 5 hours is a terrible idea, so if you have goals that require less time per day, you can actually pick 2 or 3 of these goals to fill your day.\n2. Some goals must be worked on at the same time. For example, you should not avoid studying because you're too busy with going to gym. But while you study, going to the gym is still important for your health. So I would call this an exception to this \"1 goal only\" idea.\n\nThese days it seems socially acceptable that people do 3 things at the same time: study, have a job, have a social life. Where's the free time to relax? Right it doesnt exist, and even worse, sometimes all these activities take up more than 24 hours a day, which results in someone being overwhelmed and getting behind on everything. Actually this is what I have experienced. Its not a theory, it is very real.\n\nI have a burn-out. I have been stressed 24/7 for a really long time, because I was focusing on too many things at once. I had to get my homework done, I had to spend all my free time on dating apps, I had to go to gym, etc, I had no free time left.\n\nSo my plan is to only work on one goal at once, and spend all free time as actual free time, to relax or enjoy it.\n\nQuestion : is this a good idea, or do you see any flaws with it?",
         "4"
        ],
        [
         "18708",
         "Hi guys, I am looking for podcasts to listen to that tall about depression, anxiety, mood disorders, grieving, trauma healing etc. I do not want a comedic approach, not after interview's, success stories etc. Ideally one host just talking you through why people feel this way, tips on managing your mental health, etc.I am going through a very very dark time, and while I would like to eventually listen to more light hearted podcasts I find people making jokes and laughing etc a bit off putting at the moment. Hopefully I am making sense. Thanks. Podcast recommendation",
         "2"
        ],
        [
         "19275",
         "I am 27. I am over 500 lbs. I live with my parents. do not drive. I am addicted to/misuse weed. I am a compulsive overeater. I am one of those.disgusting men who cannot see anything in a relationship past sex and attention. I am the template they use to describe the term \"Manchild or manbaby\".If there was a way to waste a human life. This is it. I see the world crumbling. I have not prepared for that. When this world comes crumbling down. My only hope is that my suffering is over quick. If there is a human garbage disposal. Chuck me in it. I feel useless. And I do not feel I have a place in this world.",
         "2"
        ],
        [
         "51249",
         "How do I know if I should actually be upset about something or if it’s just me being overly sensitive (aka my AvPD)? I feel like when someone (such as my boyfriend or family) are upset that it is my fault. I feel like I try my hardest to be “perfect” yet I am constantly falling way shorter than everyone else and what is expected of me. I feel like I am an annoyance, waste, f-up, and dumb. I am fairly observant of people’s body language and tone of voice. I pick up on a lot but some times I wonder if I’m making everything about me and I just need to ignore my (hurt) feelings. \nI’m not sure how to navigate these situations.",
         "6"
        ],
        [
         "18853",
         "I had such positive momentum going for weeks. I was hitting the gym, eating better, and just felt more positive in general. Then I got two bad nights of sleep and I just feel more miserable than ever. Its so frustrating that my mental well-being is so fragile and fickle. I was borderline suicidal after the 2nd night of bad sleep yesterday. Feeling a little better today but still just no motivation to work or do anything but lay in bed. Couple bad nights of sleep and all I feel is despair now",
         "2"
        ],
        [
         "10862",
         "Last year, during the UK lockdown, was the very first time I have ever wanted to die. It got so extreme that I came off of the internet for a few days to try to heal. I did not know what caused it. I will probably never find out. But i did heal...slightly. After about 3 days I realised that I did not want to die and my suicidal thoughts were gone almost instantly but the depression was not. I have spent a year feeling nothing but numbness, guilt and anger. Nothing else. I have had to force a laugh for a year. At one point, I tried to reach out for help but because of covid, no one was there for me in school or in the community. And now I have slipped back into my depression it is numb, but it is emotionally draining. I have had to force myself to write (which is the only hobby I can peruse because my other ones are social hobbies) to which I just think 'what is the point?\". I cannot look at my body without feeling sick of the sight. it is hard to get out of bed but when I do, I just sit there and wait. there is nothing to do. Nothing to wait for. Getting in showers or baths has become so difficult that I have resorted to making a timetable of when I need to shower. I cannot be bothered pretending anymore. I am not okay.I cannot reach out for help. My parents will think I am faking it. My friends could not care in the slightest. I do not go back to school until August (which I am dreading). I do not have anyone to turn to. In all honesty, I could not name one person that I would be able to go to for help. I do not want to die but I do not see the point in living. This is a rant more than anything. This is not a sob story. I am sure quite a few people have gone through this same experience. I can just feel myself go downhill with every passing day. I have not felt raw joy since I do not know when. I cannot remember. The numbness is almost like an uncomfortable calmness and I cannot shake myself out of it. I am self destructing again",
         "2"
        ],
        [
         "14234",
         "I did not realise it was becoming a problem until now. This has been going on ever since I am 13, I guess, now I am 20. I do not remember having passed a single week without masturbating. I think the longest period I have been without doing it has been 2 days, and that is because I was sick and was not feeling like it.But now I realise how far I have become with my habit. When I was young, I was turned out by the \"normal\" kind of porn, and that is understandable, since I was just discovering porn. And today, that kind of porn just seems boring to me. My addiction for more intense levels of pleasure has led me to look for extremely graphic porn that I am very ashamed of. I have developed fetishes I wish I never had.It has become a problem because no matter what I am doing, if I am watching a TV series, eating, exercising, the temptation of wanting to jerk off just comes suddenly and it is so hard not to give in. I do it even if I do not need it. I need some sort of technique to make those thoughts go away and let me live my life in peace, or at least that I enjoy watching \"normal\" porn again because I have seriously become a damn sexually ill pervert. I really need to stop masturbating",
         "2"
        ],
        [
         "10808",
         "Hey I am about to turn 15 in about two weeks and I cannot help feeling that I am already too old and that my life is already coming to an end. I am struggling with nostalgic depression if that is even a thing and cannot help feeling that I wish I was young again. Anybody Going through the same thing? Hi I am a 15m and I am feeling extremely depressed about my age",
         "2"
        ],
        [
         "19127",
         "I think I am depressed. I decided to type out and share some of my feelings and thoughts in order to get them off my chest and to hopefully receive some helpful advice or encouraging words from one of the people reading this.I was raised as a Christian and I was a believer until my early teenage years. Then, a relative of mine passed away, very suddenly, from cancer. She was still in her thirties. It made no sense to me. She was a very generous, sweet, hospitable, warm and loving woman. It made me question if there is a god and why he would allow something like this to happen to such a good person. The death of my relative turned me into a bit of a hedonist. My reasoning: Why would I do tedious things, if something like this can happen to anyone? What is the point in studying for a boring test when I could die tomorrow? I knew that the chances of me dying were slim, but there are never guarantees.Then, I identified as an agnostic atheist for a few years, before I finally became an atheist a few years ago. I am now at a point where I believe our existence is merely a coincidence. We are just descendants of monkeys on a tiny blue rock and the unfortunate tragedy is that we can reflect on our own existence. I am the kind of person who tries to make sense of everything. I usually try to be as unbiased as possible and to use facts in order to form my opinion. That is why it is so hard for me to come to terms with the fact that life is very unfair and random.By making smart choices (living healthily, working hard, etc.), you can only increase your chances of living a good life, but there are no guarantees. Our 1 and only life is a game of chance, which is a truth that is hard for me to fathom.The state of the world pisses me off too. Why the fuck is there still racism? Why are LGBTQIA+ people still being treated unfairly? Why are we allowing capitalism, overconsumption and greed to completely destroy our planet? Why are there billionaires? Why are millions of people starving, while others care about buying the latest clothes and gadgets? How am I supposed to care about school when these problems still exist? Perhaps I am just a sensitive little bitch, idk.Speaking of being a bitch, I fucking love my parents and I cannot stomach that someday, they will die. I start crying even just thinking about losing them at some point in the future. I genuinely believe they are some of the best human beings on the earth. I have thought about suicide but I do not think I would be able to do that to my parents, who are my everything. So the harsh reality is that either I will lose them, or they will lose me. So, if I do not want to commit suicide, it is inevitable that I will lose my parents at some point (if I manage to live that long) and that I will have to continue to live life on a planet full of greed and hate. A life that is inextricably linked to suffering. I have heard people say time and time again that life IS suffering, but even when that is seen as a universal truth, that does not mean that it becomes easier to accept that truth. That truth does not suddenly become easier to bear.I have briefly read about Camus (and the myth of Sisyphus) and while I agree with his worldviews and the absurdity of life, I cannot really see myself following the example of Sisyphus. I cannot see how I could accept having to roll the boulder up the hill for the rest of my life.For a few years, the idea of building a legacy intrigued me. What if I could make art or start institutions that could stand the test of time. My name would be cemented in history. Then, I had a shocking realisation. When I die, I will not be there to enjoy the legacy I built. I do not know what to do. I still enjoy sports, hedonism and other forms of escapism, but only because they allow me a temporary escape from life's inherent suffering. Perhaps I am a 'pussy' or a 'coward' but I honestly cannot take it anymore. This existence is overwhelming. Fed up with this unfair and cruel world and life's inherent suffering",
         "2"
        ],
        [
         "7330",
         "I am currently 16 5'3\" right now and if I do not grow any inches then I guess there is no point in living. I mean why would I want to live as a short guy until I die. Fuck that. I am going to kill myself on June 8, 2023, if I am still short.",
         "3"
        ],
        [
         "2139",
         "They do not care from were youre started. They saw of how you end it.",
         "1"
        ],
        [
         "51918",
         "health anxiety can I just say, fuck health anxiety! I truly cannot tell if I should go to the doctor or if I’m making up a problem. I’m pretty sure I was spitting up blood just now but I think it might have been from my gums. i’m freaking out being on a new medication and i feel like it was a big mistake and something’s happening to my insides. it doesn’t help that my doctor doesn’t take mental health issues seriously. \n\nhow do you all deal with health anxiety???",
         "0"
        ],
        [
         "45438",
         "Do you give in or abstain during periods of hyper sexuality? When I'm having hypersexuality problems, I tend to indulge my urges, but I wonder if that can make it worse/if I should try to ignore them. \n\nI'm not doing anything unsafe or irresponsible, but I wonder if it increases those kinds of feelings if they are always being honored. \n\nIf I should calm myself, what tips do you have to do that? ",
         "5"
        ],
        [
         "39247",
         "my anxiety make it almost impossible for me to talk on the phone even people i m not anxious around irl i get panicked with on a phone call so 99 of the time i don t answer call and definetly don t call people well now i had to answer a is wa a pretty important call and i m pretty calm after it like usually my heart beating like crazy i m sweating and my voice break during and after but now i m pretty i just feel short of breath and am a little shaky but i think it went pretty well my voice still broke during the call but not a badly a most time",
         "2"
        ],
        [
         "9094",
         "So far I have a referral pending to an outpatient program where I can hopefully get my diagnosis reevaluated. I was originally diagnosed with depression two years ago but that is when I was in a major depressive episode I was depressed for around two years. Now I am realizing that all my life I have been having severe mood swings and sometimes that is what causes me to attempt. I am getting serious about the outpatient program this time and I am making sure to keep a log of all my mood swings and symptoms for an accurate diagnosis. But now, what can I do in the meantime for self care?**here is the story: \\[ TRIGGER WARNING \\]**Last Thursday I started drinking alcohol around midnight, then woke up in a dissociative state (completely sober) and attempted to hang myself. I tried once and failed, then I cleaned my room for hours before trying again. I called a crisis line and they called me an ambulance.Still in the dissociative state I walked out of the hospital in the gown and no shoes, I got about half way home before someone called the cops on me. I was so detached that I could not feel the pain in my feet. But when I got back to the hospital I realized that my feet were swollen to the size of a melon and I had blood blisters so large I could hardly walk.I have dissociated before but this time it was severe. It looked like in the movies when you see out of a characters eyes (or POV footage) and even now thinking back on it, it does not feel like it was me who walked out of the hospital.I lied and said that I was still drunk when I walked out, and the psychiatrist on duty gave me the option to be admitted or to go home. I chose to go home, and now I am feeling lost, ashamed and embarrassed about what happened. I survived an attempt and was picked up by the cops after walking out of the hospital where do I go from here?",
         "3"
        ],
        [
         "23765",
         "No matter what I do I only feel like I can sort of distract myself from it, but then I will remember that it is there it is just always there",
         "2"
        ],
        [
         "34883",
         "Heads up: Avoid r/twoXchromosomes today If you're prone to pregnancy-related health anxiety like I am, you're gonna wanna do yourself a favor and steer clear of twoXChromosomes today. There's an abortion story that's overall positive but not good feels if you're the paranoid type. Don't make the mistake I did!",
         "0"
        ],
        [
         "25855",
         "TLDR; bf is getting more depressed over time. I am trying so hard to get him the help he needs. I am getting pushed away and its affecting my mental health now. I feel like everything is pointing towards us breaking up.we have been dating for about 1.5 years. I have GAD and moderate/mild depression. I am currently on medications and in therapy. He has severe depression (and anxiety I suspect), and has been in therapy before. Hes going back to therapy, but there were not any availabilities until August. He has a history of getting depressed in relationships (previous two gfs and me).He and I have similar histories. Both our families had pretty nasty divorces. Both of our mothers developed cancer while we were still young teenagers. Our families are in similar geographic regions. We both had a relationship that was emotionally abusive. I guess I mention these because it was easy for us to understand each other when we first met, but also because I think these could have impacted our mental developments and relationships.Both my partner and I are in graduate school. He has a major exam coming up that determines if he will qualify for candidacy. This exam has been looming for a while and has been pushed back a couple of times because of COVID, but also because he was not prioritizing preparing for it. This stressor is contributing to his depression.The other stressor is our relationship. Its been on the rocks for a couple of months now. He left to visit family in May and he was not in the mood to have sex when he came back. I miss the sexual intimacy, but I am much prefer physical affection and emotional intimacy. Having said that, its always been hard for him to open up to me. In June, he did something that really upset me at the time, which started his spiraling. I have since forgiven him, but I do not think hes forgiven himself. He admitted hes been depressed for a while now. I did not see the signs very well and attributed it to stress from his exam (before I knew our relationship was also stressing him out). He said a lot of self-hate things and started punching himself in the face. I called his dad and told him what is going on because I felt like I could not be his only support. we have been in limbo (how he described it) since June. We did not see each other much the first couple of weeks because we both needed space. After that, I have been the one initiating contact and hanging out to get a feel for things. we have been telling we love and miss each other still. However, he told me this weekend that the physical affection is hurting him and he was not comfortable with me going to our mutual friends because he cannot be a boyfriend right now. For 4th of July, he also did not act like my boyfriend.This really hurt me but I have been trying to listen to his needs more because of his depression. Hes asked for more space to focus on school, which also hurts but I do the same when I need to get work done. I have tried to get him into our schools counseling between now and his regular therapist, but he does not want to talk to a new therapist. I have also tried to get him to couples therapy. He said he would go, but its obvious he does not want to be there, so I have not scheduled anything because I do not think it would be productive if he does not want to be there. I have asked if I can help him around his house because he is not taking care of himself. I have asked how can I support him, which was the space mentioned above.He does not know what he wants in regards to us. I do not know if its the depression talking. Hes scared if we have an on and off relationship that I will eventually leave him for good because an ex did that. Hes thinks I am disappointed in him (I have never said this, he sets these expectations for himself) because he cannot be a boyfriend right now. I feel he does love me because 1) friends and his family have told me he loves and cares about me very much, 2) he showed it through his actions before all of this, 3) he told me he loves making me happy. But, my doubts have been creeping in. He said his depression is getting worse. He does not want to see me, I feel like I am walking on eggshells because I cannot tell him how this is affecting me without him spiraling, and I just feel like I keep hurting him when I am trying my best to help him. I cannot help but think his feelings for me have changed.I love him so much for so many reasons. I loved him early on in our relationship but I wanted to be sure it was real and not infatuation, so I did not say anything until maybe 9 months in. I wish he could see what I see. But him pushing me away is hurting me and affecting my mental health now. My anxiety is through the roof and I can feel my depression starting.I am not exactly sure what I am looking for from you guys, but thanks for reading if you made it to the end. My boyfriend is pushing me away and I am at a loss",
         "2"
        ],
        [
         "4511",
         "Life is cheap, what is expensive is your prestige.",
         "1"
        ],
        [
         "31468",
         "oh, yes, i took him there yesterday. he showed me one that he really liked.",
         "1"
        ],
        [
         "23477",
         "I have had depression for around 9 months and I am tired of dealing with it, will this ever go away without meds, I have heard how bad anti depressants are. I do not think I can handle going through my whole life being depressed Is there any way of getting rid of depression",
         "2"
        ],
        [
         "17206",
         "Feels kind of weird posting about this on Reddit, but if it helps then I might as well.I am 16 years old, depressed, and was diagnosed with Tourette's Syndrome at age 6, along with being tested for autism multiple times (none of them came back, and I am fairly certain I am not on the spectrum, or at least not noticeably) and Asperger's once. I had an abusive stepfather for about 9 years, from when I was 3 to when I was about 11-12. I have just finished my GCSEs, and I am waiting on my grades. I have always been a high achiever, always been placed on \"gifted and talented\" lists, always used to bury myself in science textbooks and documentaries. Back before I had access to the Internet, my education was almost a coping mechanism. Still, now it feels like a lot of other people deserve their academix success a damn sight more than I do. Compared to a lot of people on this subreddit, I should be incredibly lucky. But I do not think my luck can be much worse. I am in a friends with benefits type relationship with a girl that I have loved for about 2 years, and we still love each other, but I used to talk to her about all of my depression and suicidal tendencies and now we have got a strict rule that I cannot talk to her about it anymore. Which tbf is for the best. That does not mean it does not hurt though. I guess my main problem is that I feel isolated almost all the time. Even in a room of people I feel like I am alone. Sometimes even when I am with her. Back when I had that abusive stepfather, I remember sitting in my room, in a corner, too afraid to leave or even move until my mum came home. I have grown up since then, but on the inside that is still how I feel. I have gone through countless friend groups who do not give a shit about me, I have only ever found three or four \"real\" friends yet I feel awful telling them about anything I have experienced or I am feeling. I tried to tell my teachers that they were putting me under too much stress, and then they decide to tell my mum, when I asked them not to. Queue me being treated like an alien for weeks. I have written countless rants, suicide note drafts, sad monologues, and it is getting tiring. The suicidal stuff gets terrifying sometimes... I have a massive fear of death, but I do not want to keep on living in this kind of world. I am not always suicidal, and to be honest today has been a really good day for me. But it is not like that makes it go away. Sometimes I am scared of what is going to happen to me in X amount of years. In fact, that is pretty much all of the time. As I get older, I start to realise that my childhood is slowly slipping away from me, and that I should probably enjoy what is left of it as much as I can, yet... I do not think I have ever really enjoyed my childhood. I am going to stop there, since I would be here for days otherwise. If you made it this far, thanks for reading. Typing into the void.",
         "2"
        ],
        [
         "50934",
         "I made a friend for the first time since middle school when covid hit I became very isolated since I was doing school online but last school year I went back in person and there was this person that would approach me but I was too shy to really talk to him and I finally built up the courage this last september to actually approach him. I've gotten really close with him and I am so fuckin glad I befriended him. He's really loving, kind and patient. He's assertive, out there and also very protective while I'm very quiet, meek and also generally on edge and easily spooked so he balances me out and calms me very well. I can tell he cares very deeply about me and he's accepting of my differences. I told him about my avpd and he has been very understanding and helpful. His attitude and actions have given me a really big confidence boost in our friendship and just in general. I feel a lot more comfortable just existing and taking up space. Even tho i still struggle a lot having a supportive and caring friend has helped me tremendously and I'm planning to keep him around for a very long time :)",
         "6"
        ],
        [
         "29340",
         "Hey all! My <url> was driving our 1984 Fleetwood Southwind RV through Madison when it unexpectedly threw a belt and wonked out the radiator. Now [my <url> is stuck, trying to get it fixed in time to get back on the road and make it back to his job. We really love this RV and would hate to see it abandoned for parts somewhere, but we have no connections in Madison, WI. We are ready to pay cash money to anyone in the area that has a Chevy 454 radiator or knows an RV Wizard and can help us in the next couple of days.",
         "1"
        ],
        [
         "39105",
         "i had really bad anxiety about a year ago it made it difficult to swallow and to eat and just made everyday a chore recently i ve started to become more zoned out a if i m living in a dream there is no reason for me to be anxious but ala here i am i can not control my mind and i ve been on mg of zoloft for about month now and now that the symptom are starting to return it s making me even more anxious and i fear the anxiety may come back",
         "2"
        ],
        [
         "36825",
         "@CITYPUBLICITY During revamp and shortly after. They're out of $ now &amp; in real trouble... but I'm going to be good &amp; not bag them publicy",
         "1"
        ],
        [
         "48056",
         "I cry literally everyday. I hate life and I feel I’m not meant this world. I’m too soft, emotional and just weak… I think about why worthless my life is and how bad this world can be and I cry. I look horrible. I’m a depressed mess",
         "2"
        ],
        [
         "51536",
         "I swear it is gonna kill me really dont know what to think anymore. My life is basically that of an hikikomori, with no job or future. Its an infinite cycle of me craving social interactions and me searching ways to push away from me those that try to bond",
         "6"
        ],
        [
         "17145",
         "I am an upcoming college freshman. I took a trip with my friends family this summer; we went to Disney.First five days were okay. Had some bumps, but also had some hills really great times. I wish I could let myself go and enjoy this wonderful vacation with these wonderful people but alas, the six day mark crashed into me like an atlas stone.I just left dinner to go cry in the hotel room alone. Rationally, nothing sparked this. Maybe I just need to be alone; I cherish isolation and have got little to none of it this entire trip. I do not like what this foreshadows for college. How am I going to survive? I cannot even enjoy a fucking summer vacation, full of good vibes, good people, and good food. I feel so hopeless. So alone. Summer vacation takes a downhill slide",
         "2"
        ],
        [
         "20384",
         "Hi, i want to apologize for my English in advance, I am not a native speaker, just a 21 years old guy, that needs to ventilate somewhere.I have problems with my mental health, I am sad all the time, alone, depressed and every single day, when i wake up i struggle to get out of my bed. But i somehow made a peace with my depression, I am just going to be feeling like a piece of shit every single day, till i finally fucking decide to end thinks forever. A few weeks ago one of my old friends died in a car accident and i felt nothing, did not go to funeral, did not cry, did not feel sad, maybe just for a few minutes, after i got the news. I literally just said to myself yeah, that is sad, we were good buds back in middle and high school, anyway let us moove on. A few days ago my grandmother died (corona) and once again i was not even fucking sad.. it just happened. I feel like a monster, being fucking sad and depressed because of my own fucking problems, but when something happens to someone close to me i do not fucking feel anything. Should i get a therapy or something? Is something seriously wrong with me? I do not feel sad, when someone close to me dies.",
         "2"
        ],
        [
         "23056",
         "Male 21 years old You may not be able to understand all of this as English was not my first language.I should have lived my life happier. I choose to be alone because I always thought that you can do everything even by yourself. I ignored my friends, kept pushing that I will be ok by myself. Father left when I am just a child. Mother who worked too hard to the point where it feels like I have no parents. I got bullied when I was a kid and it made it hard for me to approach others. Even my own brother bullied me. It started when I was 8 years old. Bullying only stopped when I got to Senior High School 17 years old. Got called weird by my classmates every time. I went to different school just so I can start again but it only made it worse enough for me to attempt suicide two times. High expectation of relatives became stress and pressure for me. I had some who I should have talked to more or socialized with more but because I do not know how to, it ended with me not being able to respond making it seem like I am ignoring them and that is how I still have no friends. I always wear this fake smile on my face to not gather the attention of the teachers when I am at school. No one noticed or no one tried to ask. I tried getting help from a psychiatrist but it is not going that well. I just cannot explain why I am feeling sad or empty. I watch anime sometimes to provide myself temporary happiness but makes me feel more lonely because I have no one to talk to about things I like. I tried to befriend others but I end up talking too much and they get weirded out by me. All of this made me not want to go outside my house and made me feel like others judge me whenever they look at me. Random people I do not know why but I am scared of others stares. I do not want to be seen. I just want to disappear. I wish i could turn back time and redo all my mistakes to correct them. I wish I tried a little bit harder to get help from my relatives when i needed them. I wish I was not bullied. I wish i choose the right path that leads to happiness. Will i be able to finish my game?I always get punched. They always call me names. They steal my things. They always get away with it. When i tried to get help they told me to just ignore them and it only made it worse. Things that I tried to do:I tried overdosing on pills but my mother saved me.I tried not sleeping for 4 days and it was extremely boring but i have no one to talk to and no one cares about me so i can do whatever i want to do with myself.I tried cutting my wrist to death but was to scared of the pain. Blood looks pretty. I cut myself everyday just to see my blood and feel the pain of the cutter going through my arm.I tried to get run over by a car but they just stop and scold me.I tried to find a high place to jump from but failed.I bought rope for me todayEnd of My LifeTLDR: life sucks I want to not exist My Life",
         "2"
        ],
        [
         "1393",
         "wake up i keep on duty",
         "1"
        ],
        [
         "49786",
         "My new doctor prescribed paroxetine and alprazolam I went to a new psychiatrist who recommended paroxetine and alprazolam, but what is everyone's experience on this combo? \n\nI'm still in the introductory stage with my new doctor so she's still re-assessing me again, but I did provide her my previous doctor's certification of my BD diagnosis and prescription history. So I guess I'm just looking for reassurance about this new regimen for BD. \n\nPlease note that I communicate with my doctor (i.e. I ask her what to lookout for when taking this medicine) and I also read material about this, but it's always good to hear from other people.",
         "5"
        ],
        [
         "33955",
         "I think I have bone cancer Im 20 years old (male) and im 6' 3\" 170 lbs\n\nLet me start of by saying that for most of my life i think i have symptoms and i think im gonna die everytime untill i finally go to the doctor aand find out its some minor problem.\n\nOk so in spring of 2015 i noticed the muscle above my knee was twitching a lot so i got into the habit of feeling that area every day until i noticed a hard lump developing on my bone. I was CERTIAN i had bone cancer until i found out i had osteochondroma wich is a benign tumor and not life threatining. I decided not to have it removed.\n\nTwo years later (this last summer) i started have muscle twitches all over my body. Those lasted like 5 months and they still happen occasionally but mostly they've been replaced by painful/tender spots on various bones in my body including my spine.\n\nAnyways the bones in my feet hurt a lot and in my hands. Butttt basically every bone in my body has a spot where it hurts.\n\nMy pee also started burning last summer and i was tested for various STDs  and the doctor just kinda brushed it off just like he did with all of the other symptoms im describing. And idk if this is related but ive been constipated for 11 days but i can go with laxatives.\n\nI usually go to the gym but havent in a week in a half due to travel and ive actually gained 20 pounds (in muscle) over the last 6 months.\n\nWhat i really want to know is there ANY possibility that this isnt serious?\n\nAnd for those wondering i'm going to the doctor to get this checked out as soon as im back in town.\n\nAlso i stopped taking my adhd meds about a month ago that id been taking for 5 years",
         "0"
        ],
        [
         "30893",
         "we should hang out some time.",
         "1"
        ],
        [
         "22234",
         "I know it is too much of a burden for anyone to be depended on. it is just that, for someone as weak as I am, it is usually not that easy to cope with things like, being thrown off the bus.I have been trying to manage on my own but as a human being, i unconsciously tend to have this feeling of having a safe haven on people, and although I am aware that I should not, even when i deliberately stop things like that from happening, it still does. So when my safe haven is shattered, i shatter along with it. I just never learn. I could say that I am used to this by now but i cannot say it does not hurt any less than it did many times over. That feeling of helplessness when you can no longer count on people that used to be your rock",
         "2"
        ],
        [
         "7930",
         "This is kind of just ganna be a thought dump I guess, but its something I need to put somewhere so it is not festering in my head.I do not really understand myself anymore. I have not in a really long time, I do not even remember a time where I could accurately describe how I am feeling. There are times when I am with friends or by myself and I do not necessarily feel happy but distracted and I like that. I have heard people say, \"I keep myself busy, I do not give myself the time to be sad\" but its just more complicated than that. It is not just sadness; its anger, self-hate, and a strange emptiness I cannot describe. Even when I am out with people, speaking with them, even when I am distracting myself with some type of work, there is just this sense of hollowness.I used to be the type of person that thought things would always work out. One way or another, they had to right? They do, until they just do not anymore. Nothing works the same, and realistically I know that is because of me. There are moments, just the briefest instants of motivation I have to force things to work out. To really put shit in place and buck the fuck up, ya know? And then it just disappears and I am just at such a loss. I do not remember when I first thought it, but sometimes things just do not work out. I realized something was not right a few years ago. I have thought about death since middle school, really considered it hard but I would snap out of those funks pretty easily back then. Up until I was 20, I figured I did not think about suicide anymore than the next guy or girl. Besides what did I have to complain about? There are people that are much worse off. I was working at a bingo place at the time and was just so mentally down. I had this little post-it note that I wrote a ton of things on, they were basically ways that I would off myself if I ever had the chance to. It was meant to be kind of like an angry letter, you write it and then throw it away. Some closure or dumb shit like that. Well my manager found it and we had a pretty awkward talk. She was kind of a hard ass, the type to just bug the hell out of you over really small thing, but there were times where she was really nice. That was one of those times. Anyway, I told her that there was nothing to worry about I was just 'in a mood'. She did not tell anyone, thank fucking god, but its where I learned that thinking like that was not actually normal. I do not work there anymore, I quit not long after that. It was just too strange for me. I felt like there was always this strange look in her eye after that. I wonder if she would show up to my funeral. there is honestly a lot more I would like to share, but I do not want to make this any longer or stupid than it already is so I will wrap it up. I want to see a doctor, I need to see a doctor but they are so fucking expensive. I want medication, BUT I cannot GET IT. I do not want to feel like this anymore. I do not want to look up how I can die painlessly anymore. I do not want to debate how much longer I want to give myself anymore. I wish I lived in Sweden or somewhere that had euthanasia, that is not as scary as a gun and a rope. I want to fix my brain.I am sorry. I know stuff like this does not really help those that feel the same, but I needed to put it somewhere. I needed to exist beyond my house. I am not posting this for sympathy or pity, just for me and me alone. The same way people carve their names in trees. Although, this is much longer than a name. my brain",
         "3"
        ],
        [
         "37593",
         "i'm going to buy my slam dunk ticket today",
         "1"
        ],
        [
         "33420",
         "i sent them $20 using my credit card, but they never sent me the solution.",
         "1"
        ],
        [
         "3787",
         "Anyone know a supplier of oversized shirts with sweatshirts? If you can, want the one with yellow color and you can embroidery",
         "1"
        ],
        [
         "23371",
         "Ill just start off by saying i hate what i am. There is almost nothing about me that i like. Started balding at 15, now completely bald at 18, Crooked teeth, Gaining weight, terrible sleep schedule (5am to 4pm), zero social skills, no friends, social anxiety, no real talents, below average looks/personality, and more. I literally have no life outside of doing doordash for side money and watching youtube. There is just nothing about me that i see as worthy.How do i get out of this? I have asked people for advice around me, but they have all essentially said deal with it. I am all alone. I am so tired of being alone. All i want is to love myself, be approachable, have people that somewhat care about me, and have people to care about. But when literally everything in my life is shit, i do not know where to start. If i continue like this, i will end up a worthless hermit my whole life. Anybody here have any advice? Thank you, feel free to ask any questions How do i love myself?",
         "2"
        ],
        [
         "14721",
         "Never thought Id make a post but after the past 5 years I am seriously not right. I have a series of unfortunate events fold out and I am just at my wits end. I honestly think it would be easier to just jump but honestly I do not want to. Idk why I am writing this, maybe for attention which is embarrassing but seriously considering it. I cannot hold down a job. I have had 5 jobs in the last 2 yrs and I am running out of places to go eventually I would have worked and left everywhere where I live ! How useless Am I. Anyone any advice ? Please Never thought Id do this",
         "3"
        ]
       ],
       "shape": {
        "columns": 2,
        "rows": 10000
       }
      },
      "text/html": [
       "<div>\n",
       "<style scoped>\n",
       "    .dataframe tbody tr th:only-of-type {\n",
       "        vertical-align: middle;\n",
       "    }\n",
       "\n",
       "    .dataframe tbody tr th {\n",
       "        vertical-align: top;\n",
       "    }\n",
       "\n",
       "    .dataframe thead th {\n",
       "        text-align: right;\n",
       "    }\n",
       "</style>\n",
       "<table border=\"1\" class=\"dataframe\">\n",
       "  <thead>\n",
       "    <tr style=\"text-align: right;\">\n",
       "      <th></th>\n",
       "      <th>text</th>\n",
       "      <th>labels</th>\n",
       "    </tr>\n",
       "  </thead>\n",
       "  <tbody>\n",
       "    <tr>\n",
       "      <th>3008</th>\n",
       "      <td>I'm lazy to complain about it ba ihh</td>\n",
       "      <td>1</td>\n",
       "    </tr>\n",
       "    <tr>\n",
       "      <th>44705</th>\n",
       "      <td>i think the wifi on my iphone is broken it wil...</td>\n",
       "      <td>1</td>\n",
       "    </tr>\n",
       "    <tr>\n",
       "      <th>50186</th>\n",
       "      <td>Good tracking apps? I've been trying to find a...</td>\n",
       "      <td>5</td>\n",
       "    </tr>\n",
       "    <tr>\n",
       "      <th>13755</th>\n",
       "      <td>I have recently looked into reddit and found t...</td>\n",
       "      <td>2</td>\n",
       "    </tr>\n",
       "    <tr>\n",
       "      <th>32298</th>\n",
       "      <td>that's your favorite thing to do?</td>\n",
       "      <td>1</td>\n",
       "    </tr>\n",
       "    <tr>\n",
       "      <th>...</th>\n",
       "      <td>...</td>\n",
       "      <td>...</td>\n",
       "    </tr>\n",
       "    <tr>\n",
       "      <th>4069</th>\n",
       "      <td>how come you haven't had a day off, even thoug...</td>\n",
       "      <td>1</td>\n",
       "    </tr>\n",
       "    <tr>\n",
       "      <th>3517</th>\n",
       "      <td>it is observed that on the 3rd of Eid my mothe...</td>\n",
       "      <td>1</td>\n",
       "    </tr>\n",
       "    <tr>\n",
       "      <th>21541</th>\n",
       "      <td>Id rather have ups and downs than this shit. I...</td>\n",
       "      <td>2</td>\n",
       "    </tr>\n",
       "    <tr>\n",
       "      <th>22802</th>\n",
       "      <td>So today marks the day I went from being twent...</td>\n",
       "      <td>2</td>\n",
       "    </tr>\n",
       "    <tr>\n",
       "      <th>25338</th>\n",
       "      <td>Background info: Ever since I was young I was ...</td>\n",
       "      <td>2</td>\n",
       "    </tr>\n",
       "  </tbody>\n",
       "</table>\n",
       "<p>10000 rows × 2 columns</p>\n",
       "</div>"
      ],
      "text/plain": [
       "                                                    text  labels\n",
       "3008                I'm lazy to complain about it ba ihh       1\n",
       "44705  i think the wifi on my iphone is broken it wil...       1\n",
       "50186  Good tracking apps? I've been trying to find a...       5\n",
       "13755  I have recently looked into reddit and found t...       2\n",
       "32298                  that's your favorite thing to do?       1\n",
       "...                                                  ...     ...\n",
       "4069   how come you haven't had a day off, even thoug...       1\n",
       "3517   it is observed that on the 3rd of Eid my mothe...       1\n",
       "21541  Id rather have ups and downs than this shit. I...       2\n",
       "22802  So today marks the day I went from being twent...       2\n",
       "25338  Background info: Ever since I was young I was ...       2\n",
       "\n",
       "[10000 rows x 2 columns]"
      ]
     },
     "execution_count": 9,
     "metadata": {},
     "output_type": "execute_result"
    }
   ],
   "source": [
    "df = df.rename(columns={'statement' : 'text', 'status' : 'labels'})\n",
    "df"
   ]
  },
  {
   "cell_type": "markdown",
   "metadata": {},
   "source": [
    "For the purpose of training, we will take a random sample of 5000 entries"
   ]
  },
  {
   "cell_type": "code",
   "execution_count": null,
   "metadata": {},
   "outputs": [],
   "source": [
    "df = df.sample(5000, random_state=42)\n",
    "df"
   ]
  },
  {
   "cell_type": "markdown",
   "metadata": {},
   "source": [
    "Train test split"
   ]
  },
  {
   "cell_type": "code",
   "execution_count": 10,
   "metadata": {},
   "outputs": [],
   "source": [
    "train_df, val_df = train_test_split(df, test_size=.2, random_state=42)"
   ]
  },
  {
   "cell_type": "markdown",
   "metadata": {},
   "source": [
    "## Traditional Model (Multinominal NB)"
   ]
  },
  {
   "cell_type": "markdown",
   "metadata": {},
   "source": [
    "For the purpose of comparison, let's make a traditional ML model, in this case a multinominal Naive Bayes."
   ]
  },
  {
   "cell_type": "code",
   "execution_count": 175,
   "metadata": {},
   "outputs": [],
   "source": [
    "X_train = train_df['text']\n",
    "X_test = val_df['text']\n",
    "y_train = train_df['labels']\n",
    "y_test = val_df['labels']"
   ]
  },
  {
   "cell_type": "code",
   "execution_count": 176,
   "metadata": {},
   "outputs": [],
   "source": [
    "import re\n",
    "\n",
    "def preprocess_text(text):\n",
    "    text = text.lower()\n",
    "    text = re.sub(r'[^a-zA-Z\\s]', '', text)\n",
    "    text = re.sub(r'\\s+', ' ', text).strip()\n",
    "    return text"
   ]
  },
  {
   "cell_type": "code",
   "execution_count": 178,
   "metadata": {},
   "outputs": [],
   "source": [
    "X_train = X_train.apply(preprocess_text)\n",
    "X_test = X_test.apply(preprocess_text)"
   ]
  },
  {
   "cell_type": "code",
   "execution_count": null,
   "metadata": {},
   "outputs": [],
   "source": [
    "from sklearn.feature_extraction.text import CountVectorizer, TfidfTransformer\n",
    "from sklearn.naive_bayes import MultinomialNB\n",
    "from sklearn.pipeline import Pipeline\n",
    "from sklearn.metrics import classification_report, confusion_matrix, accuracy_score, f1_score"
   ]
  },
  {
   "cell_type": "code",
   "execution_count": 180,
   "metadata": {},
   "outputs": [],
   "source": [
    "text_clf = Pipeline([\n",
    "    ('vect', CountVectorizer(stop_words='english', ngram_range=(1, 2))),\n",
    "    ('tfidf', TfidfTransformer()),\n",
    "    ('clf', MultinomialNB())\n",
    "])"
   ]
  },
  {
   "cell_type": "code",
   "execution_count": 181,
   "metadata": {},
   "outputs": [
    {
     "data": {
      "text/html": [
       "<style>#sk-container-id-1 {\n",
       "  /* Definition of color scheme common for light and dark mode */\n",
       "  --sklearn-color-text: #000;\n",
       "  --sklearn-color-text-muted: #666;\n",
       "  --sklearn-color-line: gray;\n",
       "  /* Definition of color scheme for unfitted estimators */\n",
       "  --sklearn-color-unfitted-level-0: #fff5e6;\n",
       "  --sklearn-color-unfitted-level-1: #f6e4d2;\n",
       "  --sklearn-color-unfitted-level-2: #ffe0b3;\n",
       "  --sklearn-color-unfitted-level-3: chocolate;\n",
       "  /* Definition of color scheme for fitted estimators */\n",
       "  --sklearn-color-fitted-level-0: #f0f8ff;\n",
       "  --sklearn-color-fitted-level-1: #d4ebff;\n",
       "  --sklearn-color-fitted-level-2: #b3dbfd;\n",
       "  --sklearn-color-fitted-level-3: cornflowerblue;\n",
       "\n",
       "  /* Specific color for light theme */\n",
       "  --sklearn-color-text-on-default-background: var(--sg-text-color, var(--theme-code-foreground, var(--jp-content-font-color1, black)));\n",
       "  --sklearn-color-background: var(--sg-background-color, var(--theme-background, var(--jp-layout-color0, white)));\n",
       "  --sklearn-color-border-box: var(--sg-text-color, var(--theme-code-foreground, var(--jp-content-font-color1, black)));\n",
       "  --sklearn-color-icon: #696969;\n",
       "\n",
       "  @media (prefers-color-scheme: dark) {\n",
       "    /* Redefinition of color scheme for dark theme */\n",
       "    --sklearn-color-text-on-default-background: var(--sg-text-color, var(--theme-code-foreground, var(--jp-content-font-color1, white)));\n",
       "    --sklearn-color-background: var(--sg-background-color, var(--theme-background, var(--jp-layout-color0, #111)));\n",
       "    --sklearn-color-border-box: var(--sg-text-color, var(--theme-code-foreground, var(--jp-content-font-color1, white)));\n",
       "    --sklearn-color-icon: #878787;\n",
       "  }\n",
       "}\n",
       "\n",
       "#sk-container-id-1 {\n",
       "  color: var(--sklearn-color-text);\n",
       "}\n",
       "\n",
       "#sk-container-id-1 pre {\n",
       "  padding: 0;\n",
       "}\n",
       "\n",
       "#sk-container-id-1 input.sk-hidden--visually {\n",
       "  border: 0;\n",
       "  clip: rect(1px 1px 1px 1px);\n",
       "  clip: rect(1px, 1px, 1px, 1px);\n",
       "  height: 1px;\n",
       "  margin: -1px;\n",
       "  overflow: hidden;\n",
       "  padding: 0;\n",
       "  position: absolute;\n",
       "  width: 1px;\n",
       "}\n",
       "\n",
       "#sk-container-id-1 div.sk-dashed-wrapped {\n",
       "  border: 1px dashed var(--sklearn-color-line);\n",
       "  margin: 0 0.4em 0.5em 0.4em;\n",
       "  box-sizing: border-box;\n",
       "  padding-bottom: 0.4em;\n",
       "  background-color: var(--sklearn-color-background);\n",
       "}\n",
       "\n",
       "#sk-container-id-1 div.sk-container {\n",
       "  /* jupyter's `normalize.less` sets `[hidden] { display: none; }`\n",
       "     but bootstrap.min.css set `[hidden] { display: none !important; }`\n",
       "     so we also need the `!important` here to be able to override the\n",
       "     default hidden behavior on the sphinx rendered scikit-learn.org.\n",
       "     See: https://github.com/scikit-learn/scikit-learn/issues/21755 */\n",
       "  display: inline-block !important;\n",
       "  position: relative;\n",
       "}\n",
       "\n",
       "#sk-container-id-1 div.sk-text-repr-fallback {\n",
       "  display: none;\n",
       "}\n",
       "\n",
       "div.sk-parallel-item,\n",
       "div.sk-serial,\n",
       "div.sk-item {\n",
       "  /* draw centered vertical line to link estimators */\n",
       "  background-image: linear-gradient(var(--sklearn-color-text-on-default-background), var(--sklearn-color-text-on-default-background));\n",
       "  background-size: 2px 100%;\n",
       "  background-repeat: no-repeat;\n",
       "  background-position: center center;\n",
       "}\n",
       "\n",
       "/* Parallel-specific style estimator block */\n",
       "\n",
       "#sk-container-id-1 div.sk-parallel-item::after {\n",
       "  content: \"\";\n",
       "  width: 100%;\n",
       "  border-bottom: 2px solid var(--sklearn-color-text-on-default-background);\n",
       "  flex-grow: 1;\n",
       "}\n",
       "\n",
       "#sk-container-id-1 div.sk-parallel {\n",
       "  display: flex;\n",
       "  align-items: stretch;\n",
       "  justify-content: center;\n",
       "  background-color: var(--sklearn-color-background);\n",
       "  position: relative;\n",
       "}\n",
       "\n",
       "#sk-container-id-1 div.sk-parallel-item {\n",
       "  display: flex;\n",
       "  flex-direction: column;\n",
       "}\n",
       "\n",
       "#sk-container-id-1 div.sk-parallel-item:first-child::after {\n",
       "  align-self: flex-end;\n",
       "  width: 50%;\n",
       "}\n",
       "\n",
       "#sk-container-id-1 div.sk-parallel-item:last-child::after {\n",
       "  align-self: flex-start;\n",
       "  width: 50%;\n",
       "}\n",
       "\n",
       "#sk-container-id-1 div.sk-parallel-item:only-child::after {\n",
       "  width: 0;\n",
       "}\n",
       "\n",
       "/* Serial-specific style estimator block */\n",
       "\n",
       "#sk-container-id-1 div.sk-serial {\n",
       "  display: flex;\n",
       "  flex-direction: column;\n",
       "  align-items: center;\n",
       "  background-color: var(--sklearn-color-background);\n",
       "  padding-right: 1em;\n",
       "  padding-left: 1em;\n",
       "}\n",
       "\n",
       "\n",
       "/* Toggleable style: style used for estimator/Pipeline/ColumnTransformer box that is\n",
       "clickable and can be expanded/collapsed.\n",
       "- Pipeline and ColumnTransformer use this feature and define the default style\n",
       "- Estimators will overwrite some part of the style using the `sk-estimator` class\n",
       "*/\n",
       "\n",
       "/* Pipeline and ColumnTransformer style (default) */\n",
       "\n",
       "#sk-container-id-1 div.sk-toggleable {\n",
       "  /* Default theme specific background. It is overwritten whether we have a\n",
       "  specific estimator or a Pipeline/ColumnTransformer */\n",
       "  background-color: var(--sklearn-color-background);\n",
       "}\n",
       "\n",
       "/* Toggleable label */\n",
       "#sk-container-id-1 label.sk-toggleable__label {\n",
       "  cursor: pointer;\n",
       "  display: flex;\n",
       "  width: 100%;\n",
       "  margin-bottom: 0;\n",
       "  padding: 0.5em;\n",
       "  box-sizing: border-box;\n",
       "  text-align: center;\n",
       "  align-items: start;\n",
       "  justify-content: space-between;\n",
       "  gap: 0.5em;\n",
       "}\n",
       "\n",
       "#sk-container-id-1 label.sk-toggleable__label .caption {\n",
       "  font-size: 0.6rem;\n",
       "  font-weight: lighter;\n",
       "  color: var(--sklearn-color-text-muted);\n",
       "}\n",
       "\n",
       "#sk-container-id-1 label.sk-toggleable__label-arrow:before {\n",
       "  /* Arrow on the left of the label */\n",
       "  content: \"▸\";\n",
       "  float: left;\n",
       "  margin-right: 0.25em;\n",
       "  color: var(--sklearn-color-icon);\n",
       "}\n",
       "\n",
       "#sk-container-id-1 label.sk-toggleable__label-arrow:hover:before {\n",
       "  color: var(--sklearn-color-text);\n",
       "}\n",
       "\n",
       "/* Toggleable content - dropdown */\n",
       "\n",
       "#sk-container-id-1 div.sk-toggleable__content {\n",
       "  max-height: 0;\n",
       "  max-width: 0;\n",
       "  overflow: hidden;\n",
       "  text-align: left;\n",
       "  /* unfitted */\n",
       "  background-color: var(--sklearn-color-unfitted-level-0);\n",
       "}\n",
       "\n",
       "#sk-container-id-1 div.sk-toggleable__content.fitted {\n",
       "  /* fitted */\n",
       "  background-color: var(--sklearn-color-fitted-level-0);\n",
       "}\n",
       "\n",
       "#sk-container-id-1 div.sk-toggleable__content pre {\n",
       "  margin: 0.2em;\n",
       "  border-radius: 0.25em;\n",
       "  color: var(--sklearn-color-text);\n",
       "  /* unfitted */\n",
       "  background-color: var(--sklearn-color-unfitted-level-0);\n",
       "}\n",
       "\n",
       "#sk-container-id-1 div.sk-toggleable__content.fitted pre {\n",
       "  /* unfitted */\n",
       "  background-color: var(--sklearn-color-fitted-level-0);\n",
       "}\n",
       "\n",
       "#sk-container-id-1 input.sk-toggleable__control:checked~div.sk-toggleable__content {\n",
       "  /* Expand drop-down */\n",
       "  max-height: 200px;\n",
       "  max-width: 100%;\n",
       "  overflow: auto;\n",
       "}\n",
       "\n",
       "#sk-container-id-1 input.sk-toggleable__control:checked~label.sk-toggleable__label-arrow:before {\n",
       "  content: \"▾\";\n",
       "}\n",
       "\n",
       "/* Pipeline/ColumnTransformer-specific style */\n",
       "\n",
       "#sk-container-id-1 div.sk-label input.sk-toggleable__control:checked~label.sk-toggleable__label {\n",
       "  color: var(--sklearn-color-text);\n",
       "  background-color: var(--sklearn-color-unfitted-level-2);\n",
       "}\n",
       "\n",
       "#sk-container-id-1 div.sk-label.fitted input.sk-toggleable__control:checked~label.sk-toggleable__label {\n",
       "  background-color: var(--sklearn-color-fitted-level-2);\n",
       "}\n",
       "\n",
       "/* Estimator-specific style */\n",
       "\n",
       "/* Colorize estimator box */\n",
       "#sk-container-id-1 div.sk-estimator input.sk-toggleable__control:checked~label.sk-toggleable__label {\n",
       "  /* unfitted */\n",
       "  background-color: var(--sklearn-color-unfitted-level-2);\n",
       "}\n",
       "\n",
       "#sk-container-id-1 div.sk-estimator.fitted input.sk-toggleable__control:checked~label.sk-toggleable__label {\n",
       "  /* fitted */\n",
       "  background-color: var(--sklearn-color-fitted-level-2);\n",
       "}\n",
       "\n",
       "#sk-container-id-1 div.sk-label label.sk-toggleable__label,\n",
       "#sk-container-id-1 div.sk-label label {\n",
       "  /* The background is the default theme color */\n",
       "  color: var(--sklearn-color-text-on-default-background);\n",
       "}\n",
       "\n",
       "/* On hover, darken the color of the background */\n",
       "#sk-container-id-1 div.sk-label:hover label.sk-toggleable__label {\n",
       "  color: var(--sklearn-color-text);\n",
       "  background-color: var(--sklearn-color-unfitted-level-2);\n",
       "}\n",
       "\n",
       "/* Label box, darken color on hover, fitted */\n",
       "#sk-container-id-1 div.sk-label.fitted:hover label.sk-toggleable__label.fitted {\n",
       "  color: var(--sklearn-color-text);\n",
       "  background-color: var(--sklearn-color-fitted-level-2);\n",
       "}\n",
       "\n",
       "/* Estimator label */\n",
       "\n",
       "#sk-container-id-1 div.sk-label label {\n",
       "  font-family: monospace;\n",
       "  font-weight: bold;\n",
       "  display: inline-block;\n",
       "  line-height: 1.2em;\n",
       "}\n",
       "\n",
       "#sk-container-id-1 div.sk-label-container {\n",
       "  text-align: center;\n",
       "}\n",
       "\n",
       "/* Estimator-specific */\n",
       "#sk-container-id-1 div.sk-estimator {\n",
       "  font-family: monospace;\n",
       "  border: 1px dotted var(--sklearn-color-border-box);\n",
       "  border-radius: 0.25em;\n",
       "  box-sizing: border-box;\n",
       "  margin-bottom: 0.5em;\n",
       "  /* unfitted */\n",
       "  background-color: var(--sklearn-color-unfitted-level-0);\n",
       "}\n",
       "\n",
       "#sk-container-id-1 div.sk-estimator.fitted {\n",
       "  /* fitted */\n",
       "  background-color: var(--sklearn-color-fitted-level-0);\n",
       "}\n",
       "\n",
       "/* on hover */\n",
       "#sk-container-id-1 div.sk-estimator:hover {\n",
       "  /* unfitted */\n",
       "  background-color: var(--sklearn-color-unfitted-level-2);\n",
       "}\n",
       "\n",
       "#sk-container-id-1 div.sk-estimator.fitted:hover {\n",
       "  /* fitted */\n",
       "  background-color: var(--sklearn-color-fitted-level-2);\n",
       "}\n",
       "\n",
       "/* Specification for estimator info (e.g. \"i\" and \"?\") */\n",
       "\n",
       "/* Common style for \"i\" and \"?\" */\n",
       "\n",
       ".sk-estimator-doc-link,\n",
       "a:link.sk-estimator-doc-link,\n",
       "a:visited.sk-estimator-doc-link {\n",
       "  float: right;\n",
       "  font-size: smaller;\n",
       "  line-height: 1em;\n",
       "  font-family: monospace;\n",
       "  background-color: var(--sklearn-color-background);\n",
       "  border-radius: 1em;\n",
       "  height: 1em;\n",
       "  width: 1em;\n",
       "  text-decoration: none !important;\n",
       "  margin-left: 0.5em;\n",
       "  text-align: center;\n",
       "  /* unfitted */\n",
       "  border: var(--sklearn-color-unfitted-level-1) 1pt solid;\n",
       "  color: var(--sklearn-color-unfitted-level-1);\n",
       "}\n",
       "\n",
       ".sk-estimator-doc-link.fitted,\n",
       "a:link.sk-estimator-doc-link.fitted,\n",
       "a:visited.sk-estimator-doc-link.fitted {\n",
       "  /* fitted */\n",
       "  border: var(--sklearn-color-fitted-level-1) 1pt solid;\n",
       "  color: var(--sklearn-color-fitted-level-1);\n",
       "}\n",
       "\n",
       "/* On hover */\n",
       "div.sk-estimator:hover .sk-estimator-doc-link:hover,\n",
       ".sk-estimator-doc-link:hover,\n",
       "div.sk-label-container:hover .sk-estimator-doc-link:hover,\n",
       ".sk-estimator-doc-link:hover {\n",
       "  /* unfitted */\n",
       "  background-color: var(--sklearn-color-unfitted-level-3);\n",
       "  color: var(--sklearn-color-background);\n",
       "  text-decoration: none;\n",
       "}\n",
       "\n",
       "div.sk-estimator.fitted:hover .sk-estimator-doc-link.fitted:hover,\n",
       ".sk-estimator-doc-link.fitted:hover,\n",
       "div.sk-label-container:hover .sk-estimator-doc-link.fitted:hover,\n",
       ".sk-estimator-doc-link.fitted:hover {\n",
       "  /* fitted */\n",
       "  background-color: var(--sklearn-color-fitted-level-3);\n",
       "  color: var(--sklearn-color-background);\n",
       "  text-decoration: none;\n",
       "}\n",
       "\n",
       "/* Span, style for the box shown on hovering the info icon */\n",
       ".sk-estimator-doc-link span {\n",
       "  display: none;\n",
       "  z-index: 9999;\n",
       "  position: relative;\n",
       "  font-weight: normal;\n",
       "  right: .2ex;\n",
       "  padding: .5ex;\n",
       "  margin: .5ex;\n",
       "  width: min-content;\n",
       "  min-width: 20ex;\n",
       "  max-width: 50ex;\n",
       "  color: var(--sklearn-color-text);\n",
       "  box-shadow: 2pt 2pt 4pt #999;\n",
       "  /* unfitted */\n",
       "  background: var(--sklearn-color-unfitted-level-0);\n",
       "  border: .5pt solid var(--sklearn-color-unfitted-level-3);\n",
       "}\n",
       "\n",
       ".sk-estimator-doc-link.fitted span {\n",
       "  /* fitted */\n",
       "  background: var(--sklearn-color-fitted-level-0);\n",
       "  border: var(--sklearn-color-fitted-level-3);\n",
       "}\n",
       "\n",
       ".sk-estimator-doc-link:hover span {\n",
       "  display: block;\n",
       "}\n",
       "\n",
       "/* \"?\"-specific style due to the `<a>` HTML tag */\n",
       "\n",
       "#sk-container-id-1 a.estimator_doc_link {\n",
       "  float: right;\n",
       "  font-size: 1rem;\n",
       "  line-height: 1em;\n",
       "  font-family: monospace;\n",
       "  background-color: var(--sklearn-color-background);\n",
       "  border-radius: 1rem;\n",
       "  height: 1rem;\n",
       "  width: 1rem;\n",
       "  text-decoration: none;\n",
       "  /* unfitted */\n",
       "  color: var(--sklearn-color-unfitted-level-1);\n",
       "  border: var(--sklearn-color-unfitted-level-1) 1pt solid;\n",
       "}\n",
       "\n",
       "#sk-container-id-1 a.estimator_doc_link.fitted {\n",
       "  /* fitted */\n",
       "  border: var(--sklearn-color-fitted-level-1) 1pt solid;\n",
       "  color: var(--sklearn-color-fitted-level-1);\n",
       "}\n",
       "\n",
       "/* On hover */\n",
       "#sk-container-id-1 a.estimator_doc_link:hover {\n",
       "  /* unfitted */\n",
       "  background-color: var(--sklearn-color-unfitted-level-3);\n",
       "  color: var(--sklearn-color-background);\n",
       "  text-decoration: none;\n",
       "}\n",
       "\n",
       "#sk-container-id-1 a.estimator_doc_link.fitted:hover {\n",
       "  /* fitted */\n",
       "  background-color: var(--sklearn-color-fitted-level-3);\n",
       "}\n",
       "</style><div id=\"sk-container-id-1\" class=\"sk-top-container\"><div class=\"sk-text-repr-fallback\"><pre>Pipeline(steps=[(&#x27;vect&#x27;,\n",
       "                 CountVectorizer(ngram_range=(1, 2), stop_words=&#x27;english&#x27;)),\n",
       "                (&#x27;tfidf&#x27;, TfidfTransformer()), (&#x27;clf&#x27;, MultinomialNB())])</pre><b>In a Jupyter environment, please rerun this cell to show the HTML representation or trust the notebook. <br />On GitHub, the HTML representation is unable to render, please try loading this page with nbviewer.org.</b></div><div class=\"sk-container\" hidden><div class=\"sk-item sk-dashed-wrapped\"><div class=\"sk-label-container\"><div class=\"sk-label fitted sk-toggleable\"><input class=\"sk-toggleable__control sk-hidden--visually\" id=\"sk-estimator-id-1\" type=\"checkbox\" ><label for=\"sk-estimator-id-1\" class=\"sk-toggleable__label fitted sk-toggleable__label-arrow\"><div><div>Pipeline</div></div><div><a class=\"sk-estimator-doc-link fitted\" rel=\"noreferrer\" target=\"_blank\" href=\"https://scikit-learn.org/1.6/modules/generated/sklearn.pipeline.Pipeline.html\">?<span>Documentation for Pipeline</span></a><span class=\"sk-estimator-doc-link fitted\">i<span>Fitted</span></span></div></label><div class=\"sk-toggleable__content fitted\"><pre>Pipeline(steps=[(&#x27;vect&#x27;,\n",
       "                 CountVectorizer(ngram_range=(1, 2), stop_words=&#x27;english&#x27;)),\n",
       "                (&#x27;tfidf&#x27;, TfidfTransformer()), (&#x27;clf&#x27;, MultinomialNB())])</pre></div> </div></div><div class=\"sk-serial\"><div class=\"sk-item\"><div class=\"sk-estimator fitted sk-toggleable\"><input class=\"sk-toggleable__control sk-hidden--visually\" id=\"sk-estimator-id-2\" type=\"checkbox\" ><label for=\"sk-estimator-id-2\" class=\"sk-toggleable__label fitted sk-toggleable__label-arrow\"><div><div>CountVectorizer</div></div><div><a class=\"sk-estimator-doc-link fitted\" rel=\"noreferrer\" target=\"_blank\" href=\"https://scikit-learn.org/1.6/modules/generated/sklearn.feature_extraction.text.CountVectorizer.html\">?<span>Documentation for CountVectorizer</span></a></div></label><div class=\"sk-toggleable__content fitted\"><pre>CountVectorizer(ngram_range=(1, 2), stop_words=&#x27;english&#x27;)</pre></div> </div></div><div class=\"sk-item\"><div class=\"sk-estimator fitted sk-toggleable\"><input class=\"sk-toggleable__control sk-hidden--visually\" id=\"sk-estimator-id-3\" type=\"checkbox\" ><label for=\"sk-estimator-id-3\" class=\"sk-toggleable__label fitted sk-toggleable__label-arrow\"><div><div>TfidfTransformer</div></div><div><a class=\"sk-estimator-doc-link fitted\" rel=\"noreferrer\" target=\"_blank\" href=\"https://scikit-learn.org/1.6/modules/generated/sklearn.feature_extraction.text.TfidfTransformer.html\">?<span>Documentation for TfidfTransformer</span></a></div></label><div class=\"sk-toggleable__content fitted\"><pre>TfidfTransformer()</pre></div> </div></div><div class=\"sk-item\"><div class=\"sk-estimator fitted sk-toggleable\"><input class=\"sk-toggleable__control sk-hidden--visually\" id=\"sk-estimator-id-4\" type=\"checkbox\" ><label for=\"sk-estimator-id-4\" class=\"sk-toggleable__label fitted sk-toggleable__label-arrow\"><div><div>MultinomialNB</div></div><div><a class=\"sk-estimator-doc-link fitted\" rel=\"noreferrer\" target=\"_blank\" href=\"https://scikit-learn.org/1.6/modules/generated/sklearn.naive_bayes.MultinomialNB.html\">?<span>Documentation for MultinomialNB</span></a></div></label><div class=\"sk-toggleable__content fitted\"><pre>MultinomialNB()</pre></div> </div></div></div></div></div></div>"
      ],
      "text/plain": [
       "Pipeline(steps=[('vect',\n",
       "                 CountVectorizer(ngram_range=(1, 2), stop_words='english')),\n",
       "                ('tfidf', TfidfTransformer()), ('clf', MultinomialNB())])"
      ]
     },
     "execution_count": 181,
     "metadata": {},
     "output_type": "execute_result"
    }
   ],
   "source": [
    "text_clf.fit(X_train, y_train)"
   ]
  },
  {
   "cell_type": "code",
   "execution_count": 185,
   "metadata": {},
   "outputs": [
    {
     "name": "stderr",
     "output_type": "stream",
     "text": [
      "/opt/anaconda3/envs/mental_health_proj/lib/python3.10/site-packages/sklearn/metrics/_classification.py:1565: UndefinedMetricWarning: Precision is ill-defined and being set to 0.0 in labels with no predicted samples. Use `zero_division` parameter to control this behavior.\n",
      "  _warn_prf(average, modifier, f\"{metric.capitalize()} is\", len(result))\n",
      "/opt/anaconda3/envs/mental_health_proj/lib/python3.10/site-packages/sklearn/metrics/_classification.py:1565: UndefinedMetricWarning: Precision is ill-defined and being set to 0.0 in labels with no predicted samples. Use `zero_division` parameter to control this behavior.\n",
      "  _warn_prf(average, modifier, f\"{metric.capitalize()} is\", len(result))\n",
      "/opt/anaconda3/envs/mental_health_proj/lib/python3.10/site-packages/sklearn/metrics/_classification.py:1565: UndefinedMetricWarning: Precision is ill-defined and being set to 0.0 in labels with no predicted samples. Use `zero_division` parameter to control this behavior.\n",
      "  _warn_prf(average, modifier, f\"{metric.capitalize()} is\", len(result))\n"
     ]
    }
   ],
   "source": [
    "y_pred = text_clf.predict(X_test)\n",
    "f1_score_mnb = f1_score(y_test, y_pred, average='macro')\n",
    "report = classification_report(y_test, y_pred)"
   ]
  },
  {
   "cell_type": "code",
   "execution_count": 186,
   "metadata": {},
   "outputs": [
    {
     "name": "stdout",
     "output_type": "stream",
     "text": [
      "Model Accuracy: 0.16\n",
      "\n",
      "Classification Report:\n",
      "              precision    recall  f1-score   support\n",
      "\n",
      "           0       0.00      0.00      0.00        66\n",
      "           1       0.94      0.42      0.58       318\n",
      "           2       0.34      0.98      0.51       296\n",
      "           3       0.86      0.03      0.06       207\n",
      "           4       0.00      0.00      0.00        51\n",
      "           5       0.00      0.00      0.00        44\n",
      "           6       0.00      0.00      0.00        18\n",
      "\n",
      "    accuracy                           0.43      1000\n",
      "   macro avg       0.31      0.20      0.16      1000\n",
      "weighted avg       0.58      0.43      0.34      1000\n",
      "\n"
     ]
    }
   ],
   "source": [
    "print(f\"Model F1: {f1_score_mnb:.2f}\")\n",
    "print(\"\\nClassification Report:\")\n",
    "print(report)"
   ]
  },
  {
   "cell_type": "markdown",
   "metadata": {},
   "source": [
    "As we can see, the tradional model results in an F1 score of 0.16. This could be due to a great amount of syntactic overlap between different mental health statuses, such as depression and suicidal. Let's take a look at the confusion matrix for this model."
   ]
  },
  {
   "cell_type": "code",
   "execution_count": 188,
   "metadata": {},
   "outputs": [],
   "source": [
    "import matplotlib.pyplot as plt\n",
    "import seaborn as sns"
   ]
  },
  {
   "cell_type": "code",
   "execution_count": 189,
   "metadata": {},
   "outputs": [
    {
     "data": {
      "image/png": "[encoded data removed]",
      "text/plain": [
       "<Figure size 1000x800 with 2 Axes>"
      ]
     },
     "metadata": {},
     "output_type": "display_data"
    }
   ],
   "source": [
    "cm = confusion_matrix(y_test, y_pred)\n",
    "plt.figure(figsize=(10, 8))\n",
    "sns.heatmap(cm, annot=True, fmt='d', cmap='Blues', xticklabels=labels, yticklabels=labels)\n",
    "plt.xlabel('Predicted')\n",
    "plt.ylabel('True')\n",
    "plt.title('Confusion Matrix')\n",
    "plt.show()"
   ]
  },
  {
   "cell_type": "code",
   "execution_count": 190,
   "metadata": {},
   "outputs": [
    {
     "data": {
      "text/plain": [
       "labels\n",
       "1    318\n",
       "2    296\n",
       "3    207\n",
       "0     66\n",
       "4     51\n",
       "5     44\n",
       "6     18\n",
       "Name: count, dtype: int64"
      ]
     },
     "execution_count": 190,
     "metadata": {},
     "output_type": "execute_result"
    }
   ],
   "source": [
    "y_test.value_counts()"
   ]
  },
  {
   "cell_type": "markdown",
   "metadata": {},
   "source": [
    "## Transformer Neural Network (BERT)"
   ]
  },
  {
   "cell_type": "markdown",
   "metadata": {},
   "source": [
    "Now, let's use a transformer neural network to tokenize and model our dataset. For this, we will use HuggingFace's different python libraries.\n",
    "\n",
    "First, we have to transfer our dataframes into a Dataset, HuggingFace's data structure"
   ]
  },
  {
   "cell_type": "code",
   "execution_count": 11,
   "metadata": {},
   "outputs": [],
   "source": [
    "train_ds = Dataset.from_pandas(train_df)\n",
    "val_ds = Dataset.from_pandas(val_df)"
   ]
  },
  {
   "cell_type": "code",
   "execution_count": 12,
   "metadata": {},
   "outputs": [],
   "source": [
    "tokenizer = BertTokenizer.from_pretrained('bert-base-uncased')"
   ]
  },
  {
   "cell_type": "code",
   "execution_count": 13,
   "metadata": {},
   "outputs": [],
   "source": [
    "def tokenize_function(examples):\n",
    "    #return tokenizer(examples[\"text\"], padding=\"max_length\", truncation=True)\n",
    "    return tokenizer(examples[\"text\"], padding=\"max_length\", truncation=True, max_length=128)"
   ]
  },
  {
   "cell_type": "code",
   "execution_count": 14,
   "metadata": {},
   "outputs": [
    {
     "name": "stderr",
     "output_type": "stream",
     "text": [
      "Map: 100%|██████████| 8000/8000 [00:09<00:00, 810.72 examples/s]\n",
      "Map: 100%|██████████| 2000/2000 [00:02<00:00, 856.39 examples/s]\n"
     ]
    }
   ],
   "source": [
    "tokenized_train = train_ds.map(tokenize_function, batched=True)\n",
    "tokenized_val = val_ds.map(tokenize_function, batched=True)"
   ]
  },
  {
   "cell_type": "code",
   "execution_count": 15,
   "metadata": {},
   "outputs": [
    {
     "data": {
      "text/plain": [
       "128"
      ]
     },
     "execution_count": 15,
     "metadata": {},
     "output_type": "execute_result"
    }
   ],
   "source": [
    "len(tokenized_train['input_ids'][0])"
   ]
  },
  {
   "cell_type": "code",
   "execution_count": 16,
   "metadata": {},
   "outputs": [
    {
     "name": "stderr",
     "output_type": "stream",
     "text": [
      "Some weights of BertForSequenceClassification were not initialized from the model checkpoint at bert-base-uncased and are newly initialized: ['classifier.bias', 'classifier.weight']\n",
      "You should probably TRAIN this model on a down-stream task to be able to use it for predictions and inference.\n"
     ]
    }
   ],
   "source": [
    "from transformers import BertForSequenceClassification, TrainingArguments, Trainer\n",
    "\n",
    "# Initialize model\n",
    "model = BertForSequenceClassification.from_pretrained(\n",
    "    'bert-base-uncased',\n",
    "    num_labels=len(labels)\n",
    ")"
   ]
  },
  {
   "cell_type": "code",
   "execution_count": 17,
   "metadata": {},
   "outputs": [
    {
     "name": "stderr",
     "output_type": "stream",
     "text": [
      "/opt/anaconda3/envs/mental_health_proj/lib/python3.10/site-packages/transformers/training_args.py:1611: FutureWarning: `evaluation_strategy` is deprecated and will be removed in version 4.46 of 🤗 Transformers. Use `eval_strategy` instead\n",
      "  warnings.warn(\n"
     ]
    }
   ],
   "source": [
    "training_args = TrainingArguments(\n",
    "    output_dir=\"./results\",\n",
    "    overwrite_output_dir=True,\n",
    "    learning_rate=2e-5,\n",
    "    per_device_train_batch_size=16,\n",
    "    per_device_eval_batch_size=16,\n",
    "    num_train_epochs=5,\n",
    "    weight_decay=0.01,\n",
    "    evaluation_strategy=\"epoch\",\n",
    "    save_strategy=\"epoch\",\n",
    "    load_best_model_at_end=True,\n",
    ")"
   ]
  },
  {
   "cell_type": "code",
   "execution_count": 18,
   "metadata": {},
   "outputs": [],
   "source": [
    "import numpy as np\n",
    "import evaluate\n",
    "\n",
    "metric = evaluate.load(\"f1\")\n",
    "def compute_metrics(eval_pred):\n",
    "    logits, labels = eval_pred\n",
    "    predictions = np.argmax(logits, axis=-1)\n",
    "    return metric.compute(predictions=predictions, references=labels, average=\"macro\")"
   ]
  },
  {
   "cell_type": "code",
   "execution_count": 19,
   "metadata": {},
   "outputs": [],
   "source": [
    "trainer = Trainer(\n",
    "    model=model,\n",
    "    args=training_args,\n",
    "    train_dataset=tokenized_train,\n",
    "    eval_dataset=tokenized_val,\n",
    "    compute_metrics=compute_metrics,\n",
    ")"
   ]
  },
  {
   "cell_type": "code",
   "execution_count": 20,
   "metadata": {},
   "outputs": [
    {
     "data": {
      "text/html": [
       "\n",
       "    <div>\n",
       "      \n",
       "      <progress value='2500' max='2500' style='width:300px; height:20px; vertical-align: middle;'></progress>\n",
       "      [2500/2500 1:18:57, Epoch 5/5]\n",
       "    </div>\n",
       "    <table border=\"1\" class=\"dataframe\">\n",
       "  <thead>\n",
       " <tr style=\"text-align: left;\">\n",
       "      <th>Epoch</th>\n",
       "      <th>Training Loss</th>\n",
       "      <th>Validation Loss</th>\n",
       "      <th>F1</th>\n",
       "    </tr>\n",
       "  </thead>\n",
       "  <tbody>\n",
       "    <tr>\n",
       "      <td>1</td>\n",
       "      <td>0.934200</td>\n",
       "      <td>0.607324</td>\n",
       "      <td>0.602688</td>\n",
       "    </tr>\n",
       "    <tr>\n",
       "      <td>2</td>\n",
       "      <td>0.497900</td>\n",
       "      <td>0.551728</td>\n",
       "      <td>0.737671</td>\n",
       "    </tr>\n",
       "    <tr>\n",
       "      <td>3</td>\n",
       "      <td>0.333600</td>\n",
       "      <td>0.589579</td>\n",
       "      <td>0.751955</td>\n",
       "    </tr>\n",
       "    <tr>\n",
       "      <td>4</td>\n",
       "      <td>0.214300</td>\n",
       "      <td>0.648793</td>\n",
       "      <td>0.762547</td>\n",
       "    </tr>\n",
       "    <tr>\n",
       "      <td>5</td>\n",
       "      <td>0.131100</td>\n",
       "      <td>0.733130</td>\n",
       "      <td>0.756141</td>\n",
       "    </tr>\n",
       "  </tbody>\n",
       "</table><p>"
      ],
      "text/plain": [
       "<IPython.core.display.HTML object>"
      ]
     },
     "metadata": {},
     "output_type": "display_data"
    },
    {
     "data": {
      "text/plain": [
       "TrainOutput(global_step=2500, training_loss=0.42221019287109374, metrics={'train_runtime': 4739.9814, 'train_samples_per_second': 8.439, 'train_steps_per_second': 0.527, 'total_flos': 2631228672000000.0, 'train_loss': 0.42221019287109374, 'epoch': 5.0})"
      ]
     },
     "execution_count": 20,
     "metadata": {},
     "output_type": "execute_result"
    }
   ],
   "source": [
    "trainer.train()"
   ]
  },
  {
   "cell_type": "code",
   "execution_count": 21,
   "metadata": {},
   "outputs": [
    {
     "data": {
      "text/html": [
       "\n",
       "    <div>\n",
       "      \n",
       "      <progress value='125' max='125' style='width:300px; height:20px; vertical-align: middle;'></progress>\n",
       "      [125/125 00:37]\n",
       "    </div>\n",
       "    "
      ],
      "text/plain": [
       "<IPython.core.display.HTML object>"
      ]
     },
     "metadata": {},
     "output_type": "display_data"
    },
    {
     "name": "stdout",
     "output_type": "stream",
     "text": [
      "Evaluation results: {'eval_loss': 0.5517283082008362, 'eval_f1': 0.7376706086526598, 'eval_runtime': 37.5823, 'eval_samples_per_second': 53.217, 'eval_steps_per_second': 3.326, 'epoch': 5.0}\n"
     ]
    }
   ],
   "source": [
    "evaluation_results = trainer.evaluate()\n",
    "print(f\"Evaluation results: {evaluation_results}\")"
   ]
  },
  {
   "cell_type": "code",
   "execution_count": 174,
   "metadata": {},
   "outputs": [
    {
     "data": {
      "image/png": "[encoded data removed]",
      "text/plain": [
       "<Figure size 640x480 with 1 Axes>"
      ]
     },
     "metadata": {},
     "output_type": "display_data"
    }
   ],
   "source": [
    "import matplotlib.pyplot as plt\n",
    "\n",
    "epoch_list = [1,2,3,4,5]\n",
    "train_l_list = [0,.1803,.1803,.0681,.0681]\n",
    "val_l_list = [.656934, .853999, 1.009352, 1.096921, 1.112623]\n",
    "f1_list = [0.764503, 0.749274, 0.732952, 0.740643, 0.743907]\n",
    "\n",
    "plt.plot(epoch_list, train_l_list, c='b', label='Training Loss')\n",
    "plt.plot(epoch_list, val_l_list, c='r', label='Validation Loss')\n",
    "plt.plot(epoch_list, f1_list, c='g', label='F1 Score')\n",
    "\n",
    "plt.title(\"Initial Model Performance (BERT w/ default parameters)\")\n",
    "plt.xlabel(\"Number of epochs\")\n",
    "plt.xticks([1,2,3,4,5])\n",
    "plt.legend()\n",
    "plt.show()"
   ]
  },
  {
   "cell_type": "code",
   "execution_count": 1,
   "metadata": {},
   "outputs": [
    {
     "data": {
      "image/png": "[encoded data removed]",
      "text/plain": [
       "<Figure size 640x480 with 1 Axes>"
      ]
     },
     "metadata": {},
     "output_type": "display_data"
    }
   ],
   "source": [
    "import matplotlib.pyplot as plt\n",
    "\n",
    "epoch_list = [1,2,3,4,5]\n",
    "train_l_list = [0.934200,0.497900,0.333600,0.214300,0.131100]\n",
    "val_l_list = [0.607324, 0.551728, 0.589579, 0.648793, 0.733130]\n",
    "f1_list = [0.602688, 0.737671, 0.751955, 0.762547, 0.756141]\n",
    "\n",
    "plt.plot(epoch_list, train_l_list, c='b', label='Training Loss')\n",
    "plt.plot(epoch_list, val_l_list, c='r', label='Validation Loss')\n",
    "plt.plot(epoch_list, f1_list, c='g', label='F1 Score')\n",
    "\n",
    "plt.title(\"Second Model Performance (BERT w/ tuned parameters)\")\n",
    "plt.xlabel(\"Number of epochs\")\n",
    "plt.xticks([1,2,3,4,5])\n",
    "plt.legend()\n",
    "plt.show()"
   ]
  },
  {
   "cell_type": "code",
   "execution_count": 22,
   "metadata": {},
   "outputs": [
    {
     "data": {
      "text/plain": [
       "('./model/bigger/tokenizer_config.json',\n",
       " './model/bigger/special_tokens_map.json',\n",
       " './model/bigger/vocab.txt',\n",
       " './model/bigger/added_tokens.json')"
      ]
     },
     "execution_count": 22,
     "metadata": {},
     "output_type": "execute_result"
    }
   ],
   "source": [
    "model.save_pretrained('./model/bigger')\n",
    "tokenizer.save_pretrained('./model/bigger')"
   ]
  },
  {
   "cell_type": "code",
   "execution_count": 23,
   "metadata": {},
   "outputs": [],
   "source": [
    "import json\n",
    "with open(\"./model/bigger/label_mapping.json\", \"w\") as f:\n",
    "    json.dump({\"id_to_label\": id_to_label, \"label_to_id\": label_to_id}, f)"
   ]
  },
  {
   "cell_type": "markdown",
   "metadata": {},
   "source": [
    "- implement SMOTE\n",
    "- train on full dataset"
   ]
  },
  {
   "cell_type": "markdown",
   "metadata": {},
   "source": [
    "## Undersampling"
   ]
  },
  {
   "cell_type": "code",
   "execution_count": 29,
   "metadata": {},
   "outputs": [],
   "source": [
    "df = pd.read_csv(\"./data/Combined Data.csv\", index_col=0)"
   ]
  },
  {
   "cell_type": "code",
   "execution_count": 30,
   "metadata": {},
   "outputs": [],
   "source": [
    "df = df.dropna()"
   ]
  },
  {
   "cell_type": "code",
   "execution_count": 53,
   "metadata": {},
   "outputs": [
    {
     "data": {
      "text/plain": [
       "['Anxiety',\n",
       " 'Normal',\n",
       " 'Depression',\n",
       " 'Suicidal',\n",
       " 'Stress',\n",
       " 'Bipolar',\n",
       " 'Personality disorder']"
      ]
     },
     "execution_count": 53,
     "metadata": {},
     "output_type": "execute_result"
    }
   ],
   "source": [
    "labels = df['status'].unique().tolist()\n",
    "labels"
   ]
  },
  {
   "cell_type": "code",
   "execution_count": 54,
   "metadata": {},
   "outputs": [
    {
     "data": {
      "text/plain": [
       "'Suicidal'"
      ]
     },
     "execution_count": 54,
     "metadata": {},
     "output_type": "execute_result"
    }
   ],
   "source": [
    "label_to_id = {label: i for i, label in enumerate(labels)}\n",
    "id_to_label = {i: label for i, label in enumerate(labels)}\n",
    "\n",
    "label_to_id['Suicidal']\n",
    "id_to_label[3]"
   ]
  },
  {
   "cell_type": "code",
   "execution_count": 33,
   "metadata": {},
   "outputs": [],
   "source": [
    "df['status'] = df['status'].apply(lambda x : label_to_id[str(x)])"
   ]
  },
  {
   "cell_type": "code",
   "execution_count": 57,
   "metadata": {},
   "outputs": [
    {
     "data": {
      "application/vnd.microsoft.datawrangler.viewer.v0+json": {
       "columns": [
        {
         "name": "index",
         "rawType": "int64",
         "type": "integer"
        },
        {
         "name": "text",
         "rawType": "object",
         "type": "string"
        },
        {
         "name": "labels",
         "rawType": "int64",
         "type": "integer"
        }
       ],
       "conversionMethod": "pd.DataFrame",
       "ref": "b0ad6916-92fc-4cdc-ad40-f68383cdc03b",
       "rows": [
        [
         "0",
         "oh my gosh",
         "0"
        ],
        [
         "1",
         "trouble sleeping, confused mind, restless heart. All out of tune",
         "0"
        ],
        [
         "2",
         "All wrong, back off dear, forward doubt. Stay in a restless and restless place",
         "0"
        ],
        [
         "3",
         "I've shifted my focus to something else but I'm still worried",
         "0"
        ],
        [
         "4",
         "I'm restless and restless, it's been a month now, boy. What do you mean?",
         "0"
        ],
        [
         "5",
         "every break, you must be nervous, like something is wrong, but what the heck",
         "0"
        ],
        [
         "6",
         "I feel scared, anxious, what can I do? And may my family or us be protected :)",
         "0"
        ],
        [
         "7",
         "Have you ever felt nervous but didn't know why?",
         "0"
        ],
        [
         "8",
         "I haven't slept well for 2 days, it's like I'm restless. why huh :([].",
         "0"
        ],
        [
         "9",
         "I'm really worried, I want to cry.",
         "0"
        ],
        [
         "10",
         "always restless every night, even though I don't know why, what's wrong. strange.",
         "0"
        ],
        [
         "11",
         "I'm confused, I'm not feeling good lately. Every time I want to sleep, I always feel restless",
         "0"
        ],
        [
         "12",
         "sometimes what is needed when there is a problem is to laugh until you forget that there is a problem, when you remember it, you feel restless like that well, it turns out that I still have a sad burden blah blah blah",
         "0"
        ],
        [
         "13",
         "Because this worry is you.",
         "0"
        ],
        [
         "14",
         "Sometimes it's your own thoughts that make you anxious and afraid to close your eyes until you don't sleep",
         "0"
        ],
        [
         "15",
         "Every time I wake up, I'm definitely nervous and excited, until when are you going to try ™‚",
         "0"
        ],
        [
         "16",
         "I can only hope, even though I'm worried if it starts like this....",
         "0"
        ],
        [
         "17",
         "restive = restless, restless",
         "0"
        ],
        [
         "18",
         "\"No regrets or grudges/angry at things that have passed, and not worrying too much about the future, that's true serenity.\"",
         "0"
        ],
        [
         "19",
         "If the guy is sick, the girl actually feels sick indirectly. He must be feeling restless and restless. :')",
         "0"
        ],
        [
         "20",
         "I've been the most anxious person before I became the most sincere person, I've also been the most worried person before it all ended",
         "0"
        ],
        [
         "21",
         "Successfully online at 9am. Even sleeping in a state of restlessness what is wrong with me",
         "0"
        ],
        [
         "22",
         "Can't sleep. Just restless by nature",
         "0"
        ],
        [
         "23",
         "Already worried about picking up the phone",
         "0"
        ],
        [
         "24",
         "a little restless. a little restless. always feel guilty. sorry if i can't be the best as i've been :'",
         "0"
        ],
        [
         "25",
         "I've been so restless since this morning",
         "0"
        ],
        [
         "26",
         "it makes you feel restless",
         "0"
        ],
        [
         "27",
         "Sleepy but restless when you sleep",
         "0"
        ],
        [
         "28",
         "Why is this cave... I'm already in a bad mood and then my heart seems to be beating really fast... I'm really nervous. Is there something wrong???",
         "0"
        ],
        [
         "29",
         "He is very busy, He is restless, geez, what's going on?",
         "0"
        ],
        [
         "30",
         "I'm broken and fragile, I'm hurt, I can't stand the anxiety anymore, I can't stand the love. Until now I was ignored, not seen, even left far away. I'm not like what he wants, so I'll just step back.",
         "0"
        ],
        [
         "31",
         "# Suggest a song that makes you calm, don't know why suddenly this feeling of anger / restlessness appears. Thanks!",
         "0"
        ],
        [
         "32",
         "Terooosss nervous huuuu",
         "0"
        ],
        [
         "33",
         "why today's heart doesn't feel good..jealous?.anxious?.disappointed?.feeling failed?",
         "0"
        ],
        [
         "34",
         "It's a habit from elementary school if I think about something I'll get worried I can't sleep",
         "0"
        ],
        [
         "35",
         "Since yesterday yesterday, I have not been in the mood, very sensitive, feeling restless, always surprised and many surprises every day that almost make my brain explode, everyone is the target of ups and downs in mood. But today I feel very grateful that this lecture drama is over.",
         "0"
        ],
        [
         "36",
         "Tonight he continues to chatter about money, I'm so confused what to do. Once he said don't worry about money, but he kept blabbering about money.",
         "0"
        ],
        [
         "37",
         "Feeling so restless lately.",
         "0"
        ],
        [
         "38",
         "Oh god I'm restless",
         "0"
        ],
        [
         "39",
         "but my heart is still restless even though my mouth is talking",
         "0"
        ],
        [
         "40",
         "waiting for uncertainty, please be anxious",
         "0"
        ],
        [
         "41",
         "been the most anxious person, before becoming the most sincere person",
         "0"
        ],
        [
         "42",
         "Did you ever read it when you read it to RL, I mean the atmosphere, the taste. It's because I'm like this. when I read au, the topic was about mental illness ™ my days became restless....and now I'm scared.",
         "0"
        ],
        [
         "43",
         "Hi, I want to tell you... Lately I've been feeling restless, have trouble sleeping, I searched on google it says it's a mild symptom of depression, I used to tell my mom a psychologist friend \"don't think too much, it's not important you get depressed easily\" then I frequent irregular breathing.",
         "0"
        ],
        [
         "44",
         "I've been feeling restless for the past few days, now I'm nauseous, like someone...",
         "0"
        ],
        [
         "45",
         "Oh no I'm restless. The time will come. I walk with Jesus. Then my heart is calm.. Every time I sing a song I don't know, tomorrow in this section I always want to cry . Because I sing it but I don't do it . Sorry God I worry too much ️",
         "0"
        ],
        [
         "46",
         "Controlling anxiety is not as easy as it sounds.",
         "0"
        ],
        [
         "47",
         "Since the pandemic, I haven't opened my laptop for a day, I feel restless, I have a very heavy life load",
         "0"
        ],
        [
         "48",
         "People who are restless and afraid can be seen from the frequent touching of the face and ringing the fingers.",
         "0"
        ],
        [
         "49",
         "I don't know if my mind breaks down, but I don't want to think about it :( , why do I feel restless?",
         "0"
        ]
       ],
       "shape": {
        "columns": 2,
        "rows": 52681
       }
      },
      "text/html": [
       "<div>\n",
       "<style scoped>\n",
       "    .dataframe tbody tr th:only-of-type {\n",
       "        vertical-align: middle;\n",
       "    }\n",
       "\n",
       "    .dataframe tbody tr th {\n",
       "        vertical-align: top;\n",
       "    }\n",
       "\n",
       "    .dataframe thead th {\n",
       "        text-align: right;\n",
       "    }\n",
       "</style>\n",
       "<table border=\"1\" class=\"dataframe\">\n",
       "  <thead>\n",
       "    <tr style=\"text-align: right;\">\n",
       "      <th></th>\n",
       "      <th>text</th>\n",
       "      <th>labels</th>\n",
       "    </tr>\n",
       "  </thead>\n",
       "  <tbody>\n",
       "    <tr>\n",
       "      <th>0</th>\n",
       "      <td>oh my gosh</td>\n",
       "      <td>0</td>\n",
       "    </tr>\n",
       "    <tr>\n",
       "      <th>1</th>\n",
       "      <td>trouble sleeping, confused mind, restless hear...</td>\n",
       "      <td>0</td>\n",
       "    </tr>\n",
       "    <tr>\n",
       "      <th>2</th>\n",
       "      <td>All wrong, back off dear, forward doubt. Stay ...</td>\n",
       "      <td>0</td>\n",
       "    </tr>\n",
       "    <tr>\n",
       "      <th>3</th>\n",
       "      <td>I've shifted my focus to something else but I'...</td>\n",
       "      <td>0</td>\n",
       "    </tr>\n",
       "    <tr>\n",
       "      <th>4</th>\n",
       "      <td>I'm restless and restless, it's been a month n...</td>\n",
       "      <td>0</td>\n",
       "    </tr>\n",
       "    <tr>\n",
       "      <th>...</th>\n",
       "      <td>...</td>\n",
       "      <td>...</td>\n",
       "    </tr>\n",
       "    <tr>\n",
       "      <th>53038</th>\n",
       "      <td>Nobody takes me seriously I’ve (24M) dealt wit...</td>\n",
       "      <td>0</td>\n",
       "    </tr>\n",
       "    <tr>\n",
       "      <th>53039</th>\n",
       "      <td>selfishness  \"I don't feel very good, it's lik...</td>\n",
       "      <td>0</td>\n",
       "    </tr>\n",
       "    <tr>\n",
       "      <th>53040</th>\n",
       "      <td>Is there any way to sleep better? I can't slee...</td>\n",
       "      <td>0</td>\n",
       "    </tr>\n",
       "    <tr>\n",
       "      <th>53041</th>\n",
       "      <td>Public speaking tips? Hi, all. I have to give ...</td>\n",
       "      <td>0</td>\n",
       "    </tr>\n",
       "    <tr>\n",
       "      <th>53042</th>\n",
       "      <td>I have really bad door anxiety! It's not about...</td>\n",
       "      <td>0</td>\n",
       "    </tr>\n",
       "  </tbody>\n",
       "</table>\n",
       "<p>52681 rows × 2 columns</p>\n",
       "</div>"
      ],
      "text/plain": [
       "                                                    text  labels\n",
       "0                                             oh my gosh       0\n",
       "1      trouble sleeping, confused mind, restless hear...       0\n",
       "2      All wrong, back off dear, forward doubt. Stay ...       0\n",
       "3      I've shifted my focus to something else but I'...       0\n",
       "4      I'm restless and restless, it's been a month n...       0\n",
       "...                                                  ...     ...\n",
       "53038  Nobody takes me seriously I’ve (24M) dealt wit...       0\n",
       "53039  selfishness  \"I don't feel very good, it's lik...       0\n",
       "53040  Is there any way to sleep better? I can't slee...       0\n",
       "53041  Public speaking tips? Hi, all. I have to give ...       0\n",
       "53042  I have really bad door anxiety! It's not about...       0\n",
       "\n",
       "[52681 rows x 2 columns]"
      ]
     },
     "execution_count": 57,
     "metadata": {},
     "output_type": "execute_result"
    }
   ],
   "source": [
    "df = df.rename(columns={'statement' : 'text', 'status' : 'labels'})\n",
    "df"
   ]
  },
  {
   "cell_type": "code",
   "execution_count": 58,
   "metadata": {},
   "outputs": [
    {
     "data": {
      "application/vnd.microsoft.datawrangler.viewer.v0+json": {
       "columns": [
        {
         "name": "index",
         "rawType": "int64",
         "type": "integer"
        },
        {
         "name": "text",
         "rawType": "object",
         "type": "string"
        },
        {
         "name": "labels",
         "rawType": "int64",
         "type": "integer"
        }
       ],
       "conversionMethod": "pd.DataFrame",
       "ref": "1f8037e4-efbf-433c-872e-2ae8037e3918",
       "rows": [
        [
         "0",
         "oh my gosh",
         "0"
        ],
        [
         "1",
         "trouble sleeping, confused mind, restless heart. All out of tune",
         "0"
        ],
        [
         "2",
         "All wrong, back off dear, forward doubt. Stay in a restless and restless place",
         "0"
        ],
        [
         "3",
         "I've shifted my focus to something else but I'm still worried",
         "0"
        ],
        [
         "4",
         "I'm restless and restless, it's been a month now, boy. What do you mean?",
         "0"
        ],
        [
         "5",
         "every break, you must be nervous, like something is wrong, but what the heck",
         "0"
        ],
        [
         "6",
         "I feel scared, anxious, what can I do? And may my family or us be protected :)",
         "0"
        ],
        [
         "7",
         "Have you ever felt nervous but didn't know why?",
         "0"
        ],
        [
         "8",
         "I haven't slept well for 2 days, it's like I'm restless. why huh :([].",
         "0"
        ],
        [
         "9",
         "I'm really worried, I want to cry.",
         "0"
        ],
        [
         "10",
         "always restless every night, even though I don't know why, what's wrong. strange.",
         "0"
        ],
        [
         "11",
         "I'm confused, I'm not feeling good lately. Every time I want to sleep, I always feel restless",
         "0"
        ],
        [
         "12",
         "sometimes what is needed when there is a problem is to laugh until you forget that there is a problem, when you remember it, you feel restless like that well, it turns out that I still have a sad burden blah blah blah",
         "0"
        ],
        [
         "13",
         "Because this worry is you.",
         "0"
        ],
        [
         "14",
         "Sometimes it's your own thoughts that make you anxious and afraid to close your eyes until you don't sleep",
         "0"
        ],
        [
         "15",
         "Every time I wake up, I'm definitely nervous and excited, until when are you going to try ™‚",
         "0"
        ],
        [
         "16",
         "I can only hope, even though I'm worried if it starts like this....",
         "0"
        ],
        [
         "17",
         "restive = restless, restless",
         "0"
        ],
        [
         "18",
         "\"No regrets or grudges/angry at things that have passed, and not worrying too much about the future, that's true serenity.\"",
         "0"
        ],
        [
         "19",
         "If the guy is sick, the girl actually feels sick indirectly. He must be feeling restless and restless. :')",
         "0"
        ],
        [
         "20",
         "I've been the most anxious person before I became the most sincere person, I've also been the most worried person before it all ended",
         "0"
        ],
        [
         "21",
         "Successfully online at 9am. Even sleeping in a state of restlessness what is wrong with me",
         "0"
        ],
        [
         "22",
         "Can't sleep. Just restless by nature",
         "0"
        ],
        [
         "23",
         "Already worried about picking up the phone",
         "0"
        ],
        [
         "24",
         "a little restless. a little restless. always feel guilty. sorry if i can't be the best as i've been :'",
         "0"
        ],
        [
         "25",
         "I've been so restless since this morning",
         "0"
        ],
        [
         "26",
         "it makes you feel restless",
         "0"
        ],
        [
         "27",
         "Sleepy but restless when you sleep",
         "0"
        ],
        [
         "28",
         "Why is this cave... I'm already in a bad mood and then my heart seems to be beating really fast... I'm really nervous. Is there something wrong???",
         "0"
        ],
        [
         "29",
         "He is very busy, He is restless, geez, what's going on?",
         "0"
        ],
        [
         "30",
         "I'm broken and fragile, I'm hurt, I can't stand the anxiety anymore, I can't stand the love. Until now I was ignored, not seen, even left far away. I'm not like what he wants, so I'll just step back.",
         "0"
        ],
        [
         "31",
         "# Suggest a song that makes you calm, don't know why suddenly this feeling of anger / restlessness appears. Thanks!",
         "0"
        ],
        [
         "32",
         "Terooosss nervous huuuu",
         "0"
        ],
        [
         "33",
         "why today's heart doesn't feel good..jealous?.anxious?.disappointed?.feeling failed?",
         "0"
        ],
        [
         "34",
         "It's a habit from elementary school if I think about something I'll get worried I can't sleep",
         "0"
        ],
        [
         "35",
         "Since yesterday yesterday, I have not been in the mood, very sensitive, feeling restless, always surprised and many surprises every day that almost make my brain explode, everyone is the target of ups and downs in mood. But today I feel very grateful that this lecture drama is over.",
         "0"
        ],
        [
         "36",
         "Tonight he continues to chatter about money, I'm so confused what to do. Once he said don't worry about money, but he kept blabbering about money.",
         "0"
        ],
        [
         "37",
         "Feeling so restless lately.",
         "0"
        ],
        [
         "38",
         "Oh god I'm restless",
         "0"
        ],
        [
         "39",
         "but my heart is still restless even though my mouth is talking",
         "0"
        ],
        [
         "40",
         "waiting for uncertainty, please be anxious",
         "0"
        ],
        [
         "41",
         "been the most anxious person, before becoming the most sincere person",
         "0"
        ],
        [
         "42",
         "Did you ever read it when you read it to RL, I mean the atmosphere, the taste. It's because I'm like this. when I read au, the topic was about mental illness ™ my days became restless....and now I'm scared.",
         "0"
        ],
        [
         "43",
         "Hi, I want to tell you... Lately I've been feeling restless, have trouble sleeping, I searched on google it says it's a mild symptom of depression, I used to tell my mom a psychologist friend \"don't think too much, it's not important you get depressed easily\" then I frequent irregular breathing.",
         "0"
        ],
        [
         "44",
         "I've been feeling restless for the past few days, now I'm nauseous, like someone...",
         "0"
        ],
        [
         "45",
         "Oh no I'm restless. The time will come. I walk with Jesus. Then my heart is calm.. Every time I sing a song I don't know, tomorrow in this section I always want to cry . Because I sing it but I don't do it . Sorry God I worry too much ️",
         "0"
        ],
        [
         "46",
         "Controlling anxiety is not as easy as it sounds.",
         "0"
        ],
        [
         "47",
         "Since the pandemic, I haven't opened my laptop for a day, I feel restless, I have a very heavy life load",
         "0"
        ],
        [
         "48",
         "People who are restless and afraid can be seen from the frequent touching of the face and ringing the fingers.",
         "0"
        ],
        [
         "49",
         "I don't know if my mind breaks down, but I don't want to think about it :( , why do I feel restless?",
         "0"
        ]
       ],
       "shape": {
        "columns": 2,
        "rows": 52681
       }
      },
      "text/html": [
       "<div>\n",
       "<style scoped>\n",
       "    .dataframe tbody tr th:only-of-type {\n",
       "        vertical-align: middle;\n",
       "    }\n",
       "\n",
       "    .dataframe tbody tr th {\n",
       "        vertical-align: top;\n",
       "    }\n",
       "\n",
       "    .dataframe thead th {\n",
       "        text-align: right;\n",
       "    }\n",
       "</style>\n",
       "<table border=\"1\" class=\"dataframe\">\n",
       "  <thead>\n",
       "    <tr style=\"text-align: right;\">\n",
       "      <th></th>\n",
       "      <th>text</th>\n",
       "      <th>labels</th>\n",
       "    </tr>\n",
       "  </thead>\n",
       "  <tbody>\n",
       "    <tr>\n",
       "      <th>0</th>\n",
       "      <td>oh my gosh</td>\n",
       "      <td>0</td>\n",
       "    </tr>\n",
       "    <tr>\n",
       "      <th>1</th>\n",
       "      <td>trouble sleeping, confused mind, restless hear...</td>\n",
       "      <td>0</td>\n",
       "    </tr>\n",
       "    <tr>\n",
       "      <th>2</th>\n",
       "      <td>All wrong, back off dear, forward doubt. Stay ...</td>\n",
       "      <td>0</td>\n",
       "    </tr>\n",
       "    <tr>\n",
       "      <th>3</th>\n",
       "      <td>I've shifted my focus to something else but I'...</td>\n",
       "      <td>0</td>\n",
       "    </tr>\n",
       "    <tr>\n",
       "      <th>4</th>\n",
       "      <td>I'm restless and restless, it's been a month n...</td>\n",
       "      <td>0</td>\n",
       "    </tr>\n",
       "    <tr>\n",
       "      <th>...</th>\n",
       "      <td>...</td>\n",
       "      <td>...</td>\n",
       "    </tr>\n",
       "    <tr>\n",
       "      <th>53038</th>\n",
       "      <td>Nobody takes me seriously I’ve (24M) dealt wit...</td>\n",
       "      <td>0</td>\n",
       "    </tr>\n",
       "    <tr>\n",
       "      <th>53039</th>\n",
       "      <td>selfishness  \"I don't feel very good, it's lik...</td>\n",
       "      <td>0</td>\n",
       "    </tr>\n",
       "    <tr>\n",
       "      <th>53040</th>\n",
       "      <td>Is there any way to sleep better? I can't slee...</td>\n",
       "      <td>0</td>\n",
       "    </tr>\n",
       "    <tr>\n",
       "      <th>53041</th>\n",
       "      <td>Public speaking tips? Hi, all. I have to give ...</td>\n",
       "      <td>0</td>\n",
       "    </tr>\n",
       "    <tr>\n",
       "      <th>53042</th>\n",
       "      <td>I have really bad door anxiety! It's not about...</td>\n",
       "      <td>0</td>\n",
       "    </tr>\n",
       "  </tbody>\n",
       "</table>\n",
       "<p>52681 rows × 2 columns</p>\n",
       "</div>"
      ],
      "text/plain": [
       "                                                    text  labels\n",
       "0                                             oh my gosh       0\n",
       "1      trouble sleeping, confused mind, restless hear...       0\n",
       "2      All wrong, back off dear, forward doubt. Stay ...       0\n",
       "3      I've shifted my focus to something else but I'...       0\n",
       "4      I'm restless and restless, it's been a month n...       0\n",
       "...                                                  ...     ...\n",
       "53038  Nobody takes me seriously I’ve (24M) dealt wit...       0\n",
       "53039  selfishness  \"I don't feel very good, it's lik...       0\n",
       "53040  Is there any way to sleep better? I can't slee...       0\n",
       "53041  Public speaking tips? Hi, all. I have to give ...       0\n",
       "53042  I have really bad door anxiety! It's not about...       0\n",
       "\n",
       "[52681 rows x 2 columns]"
      ]
     },
     "execution_count": 58,
     "metadata": {},
     "output_type": "execute_result"
    }
   ],
   "source": [
    "#df = df.sample(5000, random_state=42)\n",
    "df"
   ]
  },
  {
   "cell_type": "code",
   "execution_count": 59,
   "metadata": {},
   "outputs": [
    {
     "data": {
      "text/plain": [
       "labels\n",
       "1    16343\n",
       "2    15404\n",
       "3    10652\n",
       "0     3841\n",
       "5     2777\n",
       "4     2587\n",
       "6     1077\n",
       "Name: count, dtype: int64"
      ]
     },
     "execution_count": 59,
     "metadata": {},
     "output_type": "execute_result"
    }
   ],
   "source": [
    "df['labels'].value_counts()"
   ]
  },
  {
   "cell_type": "code",
   "execution_count": 75,
   "metadata": {},
   "outputs": [
    {
     "data": {
      "application/vnd.microsoft.datawrangler.viewer.v0+json": {
       "columns": [
        {
         "name": "index",
         "rawType": "int64",
         "type": "integer"
        },
        {
         "name": "text",
         "rawType": "object",
         "type": "string"
        },
        {
         "name": "labels",
         "rawType": "int64",
         "type": "integer"
        }
       ],
       "conversionMethod": "pd.DataFrame",
       "ref": "2435f900-2e9a-49c6-bae4-e20fd5e634ae",
       "rows": [
        [
         "50654",
         "Is there anyone interested in joining a group for AvPD on Telegram? **Edit:** The Telegram group has been created, here's the invitation link: https://t.me/+r_m6p58MZUhmZDdk\n\n- Number of members as of 2022/07/30: **71**\n- Number of members as of 2022/09/26: **158**\n- Number of members as of 2022/12/25: **219**\n\nWe created a [Telegram](https://www.telegram.org/) group/room for people with AvPD who want to talk to other people with AvPD, to break the loneliness, pass the time, make friends or just lurk.\n\nPlease introduce yourself briefly (for instance: name, age, sex, country, languages spoken, hobbies) when joining the group. Also, remember to welcome people who just joined the group.\n\nIf you have any suggestions or ideas to improve (in quality) the group, if you want to create an event or anything that might improve the experience of the group, feel free to share them in the group and ping me.\n\n[Telegram](https://telegram.org/) is available on PC (Windows), macOS, Linux, iPhone (iOS), iPad (iOS) and Android phones and tablets. There's also a Web version (but you first need to install it on one of your devices to use it).\n\n**Note:** You can also speak your native language in this group (if at least one other member also speak it).",
         "6"
        ],
        [
         "50656",
         "Anyone else have nothing in common with other people? When I see normal people constantly talk and have fun with it, I'm genuinely shocked. How the hell do they have something to talk about all the time?? How do they know what would be interesting to the person they talk to?\n\nIt feels like I operate on lvl 1 of social skills, while everyone else is already on lvl 100. Nobody around me has the same lvl, so I can't even train to become stronger; doomed to lose every encounter.",
         "6"
        ],
        [
         "50657",
         "Being a ghost would be my ideal form of existence. I really enjoy watching people live their lives, listening indirectly to their conversations while in public, being an observer of events etc. My problem is having to interfere on the world, I hate having to talk and to do things that will have consequences in it. I wish I could just watch life like a tv show or as if I was a ghost, in a way that no one could see me, nothing would be expected of me and I wouldn't need to worry because I would be certain of it. I could just contemplate the world in peace.\n\nSome of you guys may have watched Euphoria and I definitely feel a connection with the description made about Lexi, how she felt like she was an just observer and that her life was not really her life, just some sort of play or movie.\n\nThese days I been having the classic \"I want to leave all behind and live in the woods with just a dog\" idea and daydreams, and I guess that a big part of it is because I feel like there I could be like this, or at least similar enough. Be an observer of nature, never having to deal with socialization again, only brief interactions for, let's say, buy necessary stuff from other people (which I don't mind). I know this isn't realistic for my context and also that it probably wouldn't be this magical thing, but it's a fantasy that brings me satisfaction.\n\nI guess I'm just burned out of people. A lot of bad things happened in my relational and social life since childhood till last year and I'm really bitter about it right now. Of course I want to find real connection, where I could be myself openly and comfortably, but because it always goes wrong and brings disappointments I'm really hopeless at this point and honestly kinda angry. I don't have patience for people anymore, I'm tired, I'm being judgy as hell and I'm activelly avoiding new people.",
         "6"
        ],
        [
         "50659",
         "I am hurting Lately I just feel like garbage. I havent left the house much in like 2 weeks, and I've been missing class. It all feels too overwhelming for me, but being at home makes me feel like trash too...I cant win. I cant sleep right either. I wake up every other hour and im so tired....\n\nI feel so angry and anxious lately too because I feel as if everyone hates me and that they're happier without me. My friends hardly talk to me lately. I see them on social media chatting and making plans to call/play games and im never included lately. Im not surprised though. Who'd want to be friends with someone as depressed and broken as me?\n\nI want to crawl in a hole and disappear :(",
         "6"
        ],
        [
         "50660",
         "I can't cope with my job I work from home as a software developer, most aspects of the job are too triggering, and I can’t handle it.\n\nEvery morning starts with a daily update meeting. Since I usually had done only 0-30 minutes of work the previous day, I have no update to give, I panic and have to lie, and the lie is transparent. Afterwards I have to cool down from the shame, guilt, and stress. It’s already hard to recover from the procrastination because everything I do, with the code or on Slack, has a timestamp, a notification, and is visible to everyone. Once there’s something I’m avoiding (committing code, deploying code, posting the code for review, responding to someone, testing code, an upcoming meeting, etc.) I often go offline from inactivity, and then I’m afraid to even open my laptop (which can take hours to overcome) because once I do everyone can see I’m online on Slack; my procrastination then is immediately visible to the people who are impacted and who are looking for it i.e. people I’m not responding to, my manager.\n\nI already got in trouble for not doing my work, missing meetings, not responding to people for days or weeks, and just not showing up some days without telling anyone. I was put on a month-long probation, which I’ve gotten past only because I didn’t ghost entire days during that time. I have frequent meetings with my manager and I have to pretend I’m struggling way less than I am. I can’t admit that half or more of the days I do absolutely nothing, or how much communicating with people — the most important part of the job — so fundamentally terrifies me.\n\nI know every trick in the book about procrastination, time management, breaking down tasks, but that’s not enough when I’m this afraid of people. I’ve accepted I need help from another person. I’ve talked about this some with friends, but none of them understand, so all they can provide is sympathy. I have a psychiatrist and I’ve been trying to find a therapist, but they’ve all been unhelpful, many actively harmful.\n\nI know it's a slow process, but every single day at work is like torture, and I’m on very thin ice. Because I can’t get the work done, it’s not endurable, and I don’t have the time or energy to work on all the other parts of my life in dire need of work. I don’t want to quit because I haven’t been here that long and I had a big gap between quitting my previous job (for the same reasons). But I can’t stay like this for months until I find someone and begin making progress.\n\nI don’t know what to do",
         "6"
        ],
        [
         "50661",
         "AE feel like this? I’m 24 and don’t have a stunningly high body count, it never used to bother me but once i hit my 20s and people i knew hit that phase of sleeping around and doing the casual relationship thing it just hooked into my brain\n\nI tried to do the whole hoe phase thing but i’m terrified of everything around being more intimate with someone, making moves, doing things right, my own body; just not being able to keep up the act ive got going and having to have someone see  all of me, you know? \n\nand on paper i know it’s fine not everyone on earth is hoeing it up, either side of the spectrum is fine, but my brains really latched onto this as another thing that makes me different from everyone else and something people are going to judge me for. like i’m not a person because no one’s ever really wanted me. &amp; every time someone brings it into conversation i just feel physically sick with how much of the biggest freak i feel like  \n\ni’m sorry if this barely makes sense i just really needed to get this off my chest",
         "6"
        ],
        [
         "50662",
         "How to deal with in-person avoidance? Hi dear community!\n\nI have a question, my partner has AVPD. We have been dating for some months.\n\nAnd I noticed that when he’s going through an anxiety “episode” or moment. He sort of physically avoids me.\n\nFor example if he feels embarrassed, or has low self esteem particularly high that moment. He will “hide” behind his laptop, or walk behind or in front of me, distancing himself physically, while still being kind, it’s more of a way of hiding from me, when he can’t actually leave. (For example when we share a hotel room on vacation)\n\nI did notice that when I grab his hand to hold mine while walking, that he does reciprocate(even when he tried to walk behind me or further away from me) but I’m not sure if he does it to please me but dislikes it, or if he likes it that I’m gently being reassuring and consistent.\n\n\nMy dear Avpd-Ers- when feeling low, do you like being comforted, or do you truly want someone to take distance and leave you alone? I just want to learn how to handle the situation so he feels comfortable!\n\nThanks everyone !!",
         "6"
        ],
        [
         "50664",
         "Expressing myself I feel like I’ve had a realization in the last few months that I wanted to share. It’s that one of the ways forward with this disability for me is to learn how to honestly express myself without distortion, and to do that constantly without regard for the fact that it causes me pain and discomfort.\n\n I used to cope with my issues by putting on a mask of a personality that I built using self help books and a desperate need for approval. Basically just the ‘fake it til you make it strategy’. Although I became more conventionally likable, it truly did not help in the long run as I was never able to get close to people. Now I am back to an ultimately isolated life. But I’m trying something different.\n\nIt’s very challenging to me and not always doable but I think it is necessary. And that is to view socializing as a simple and honest expression of myself between others. When I have a thought or opinion or feeling, say it, put it out there in some way (for better or worse). Also, treat what others say as true expression of their being. This may sound silly but I think it is a subtle seeming thing that is actually big deal.\n\nAs I said it’s challenging and not always doable, this is because \n1. A deeply negative emotional and sometimes physical reaction to the idea of expressing most things in my mind for fear of embarrassment or rejection.\n2. My brain going blank due to weariness and therefor not having anything to express.\n3. The fact that isolation makes me depressed and lonely so the things on my mind can bring the vibe down.\n\nBut regardless I realize that this is what I have to do, and that watching myself mindfully and purely expressing what’s on my mind is the only way forward. Usually what happens when I force something out is that I brace for impact. Brace for embarrassment, rejection, etc. Usually I assume that people are secretly embarrassed for me for whatever I said, but whether or not that is true isn’t important.\n\nI’ve been trying a lot of tools of expression such as music, writing, and drawing, and I think these are helping me learn how to express myself naturally.\n\nAnyway, I’m tired of pretending. Im not sure if I will ever be able to speak without fear and shame, but at least I won’t have to strain myself into a ‘safe’ caricature. Maybe this seems like crazy person thoughts but I hope someone relates or understands.",
         "6"
        ],
        [
         "50665",
         "An absence of social pleasure (social anhedonia) It is not possible to know what it is like to experience the world from inside someone else’s body, but I can infer from others that people enjoy being with other people more than I do. \n\nIt is rare that I enjoy a person’s company. Usually I look forward to being alone again. Instead of pleasure, I do feel an absence of loneliness or fear, but these are not pleasure. I very much experience health benefits from being with other people, I can’t deny this, but in the moment I feel like something important is missing. \n\nTo say it different, I don’t feel a desire to be with others unless I am wanting to soothe or avoid loneliness or fear. By default, being alone is peaceful and ideal. \n\n\nIs it really anhedonia, or is it also possible that my default is actually that the social anxiety overpowers the social pleasure so that I can’t feel feel. And it takes a really strong negative emotion to overpower social anxiety in order to provoke a desire to be with others. \n\nWish I understood so that I could participate more in life.",
         "6"
        ],
        [
         "50666",
         "I dream that someone would adopt me. I'm 23 years old.\n\nI hope everyday that someone else than my mom would see me, find something they like about me and decide to brush me off and give me a piece of shelter.\n\nI've been through too much shit to start over with my family and I just want to feel like I matter and I can make a difference.",
         "6"
        ],
        [
         "50667",
         "How do you deal with making mistakes? Like breaking stuff that’s not yours, or forgetting to do something important. I’m a perfectionist and every time I screw up it kills my mood and sends me into a spiral of self loathing. Suicidal thoughts appear immediately. Can’t help but see myself as an anti-Midas, and that’s one thought that usually proves itself to be true.\n\nI just had a bit of a fuck up. Don’t care to go into detail about it, but moments like this are why avoidance makes sense. It never would’ve happened if I didn’t take the chance.",
         "6"
        ],
        [
         "50668",
         "how to gently ghost an avoidant without making feel them guilty? so, throwaway because i’m afraid she might be in this sub.\nbefore asking the real question, long story short (tldr at the end):\n\nso me (22m) and this girl (20f) matched on tinder a year ago, we want on a date and then she ghosted me the day after.\ntried to talk to her one day after few months, got a single message reply and then she disappeared again.\nat the end of last year i notice she was on hinge saying she broke up with her bf, so i started posting instagram stories that she might’ve been find interesting, and she started liking them, so after a while i reached out to her and wishing a happy new year. she seemed kinda interest, so we made plans for the following week.\nshe ghosted me again. i was disappointed.\nafter few days i noticed she had put me back in the close friends (she removed me from it after the first ghosting) so i thought “mh she might be to ashamed to write me back after all this time, i’ll reach out again” \nand since then we never stopped talking anymore, but here comes the problem.\nwe just talked for a couple months, i tried not to push anything to don’t let her make uncomfortable and run away again, but she basically is just venting on me, and now she started venting also about “male friends” on and on, so i got suspicious, and i was right, she’s back on hinge with a fresh new verified and recently active profile. \n\nnow here comes the problem, and i don’t mean her being on hinge, at least not directly.\n-she’s in therapy and on meds, i’m pretty sure her therapist wouldn’t suggest her to be on hinge (correct me if i’m wrong). \n-she said she couldn’t drink cause of meds and of med swings, but few days ago she started hanging out at night (she couldn’t do it before hanging out with me couple weeks ago) with “a male friend” and wanted to get drunk ( 🚩).\n-she said she’s to anxious to hang out with people outta blue ( 🚩).\n-we were talking about hanging out again, said she was super busy, got even more busy with college lessons, but she found the to hang out with somebody else, while i’m being her emotional support for the last 2-3 months \n-didn’t text me back for couple days after hanging out with that guy\n\nso the real question is: how do i gently end up things with her? i don’t want to make feel her guilty, but i can’t keep stressing myself this much\n\ni thought she’d made progress with her therapist, but apparently she isn’t doing much of what they says, so i think she might be helpless and toxic, and mostly we aren’t on the same page, i truly love her and i think she knows but she’s playing with me and using me just to vent and for not feeling completely lonely \n\nTLDR after being ghosted multiple times with a girl with avpd, adhd and probably bpd too (i’m referring what she said to me), we seemed to bond for once, but she might be a toxic person and i don’t think i don’t want keep pursuing this anymore , i’d like to slowly walk away without hurting both of us. \nshe probably know i’m in love with her and she’s playing me. even if i’d come out and we’d make things work (quite impossible imho) i’m not sure she might be a good fit. \n\n-sorry for language mistakes and for the format, but i’m from mobile-",
         "6"
        ],
        [
         "50669",
         "I’ve got two degrees and both university experiences were almost identical in social sense It honestly amazes me how similarly horrific my social experience with the second degree was even though I KNEW the pitfalls and tried my best. Granted, covid did happen as I started. Still don’t know if it could have been different for me, I’m bitter to say the least.\n\nBoth times it was something like this:\n\nFirst year, I try to fit in but get all stressed out. People reach out a little, I either avoid it or get in the situation, act awkward and get back to avoiding.\n\nSecond year, I get a nervous break down, heavy paranoia and practically speak to nobody. People stop reaching out.\n\nThird year, I feel a little better in a who cares anyway -kind of way, I try to act like a normal person again but people make an effort not to even come in contact with me. I feel like I’m still in quarantine, not even alone but like actually hated by a bunch of people even though I practically don’t exist to them.",
         "6"
        ],
        [
         "50670",
         "Alameda by Elliott Smith and AvPD I’m not saying Elliott had AvPD, but as an AvPD-sufferer I feel like the lyrics in this songs fits to a lot of what’s going on in my life. I’m constantly guarding myself against other people’s love («your protection over their affection»), and basically alienating myself from them («Nobody broke your heart. You broke your own, cause you can’t finish what you start»).",
         "6"
        ],
        [
         "50672",
         "I rejected her even though I wanted her I made plans with a girl and we wanted to meet.\n\nI decided to cancel it and I told her that I don’t feel good. Obviously she asked what is trying to get me as a some physical illness, but in reality depression is trying to get me. I mean I really don’t feel good I didn’t lie, it’s just not a physical illness.\n\nWhat I am suprised is that she instantly also said that we can meet next week. I thought she isn’t interested and she is just messing with me, that’s also reason why I decided to cancel. I don’t think that my depression will be cured until then.😕",
         "6"
        ],
        [
         "50673",
         "I’ve been thinking about dxxth a lot recently. How do I stop?",
         "6"
        ],
        [
         "50674",
         "Why am i so weird and how to get better interacting with people? Context- when “normal” people interact with each other they speak and converse like they know eachother beforehand when they dont. But im always quiet and just silently looking at them? And like i know they notice it and sometimes they dont even want to interact because im so silent? \n\nIts like really hard to interact with when it’s about personal relationship. But when i have appointments its easier?\n\n(Extrovert/ normal idk What to Call it)",
         "6"
        ],
        [
         "50675",
         "Feel like a leech Sometimes a song stops me in my tracks and [this is one of them](https://m.youtube.com/watch?v=WjxIuZVgjp8).\n\nMy mother would tell me I’m exactly the same type of person as the lyrics of this song describe. She called me a sociopath, someone really sick in the head and not redeemable. That I tried to purposely ruin my family’s lives. Like I had a secret agenda that even I couldn’t know about. It’s been the foundation of all of my relationships with others, and helps explain why I get so nervous trying to get close with anyone. Trying to connect while thinking I’m secretly extremely evil and unlovable and that I’m taking advantage of everyone just by wanting to talk with them. That everything I say is actually ‘calculated’ and manipulative, despite me being unaware of this. That my side of the story isn’t just shameful and wrong, it’s *evil and vile.*\n\nAvoidant with BPD is contradictory hell. I’m hating closeness and trying to stay away but the other side of me is always getting too close in the relationships I can keep so they don’t leave me. I’m unbelievably stressed because I’m so close to disaster. I hate to vent to my best friend of several years because I feel like I’m being too greedy of her time. I feel like I’m “sucking off all the meat” of this relationship, taking up the space for my troubles, and then I don’t even improve. I know she’s going to leave when she discovers I’m actually a terrible person and that I don’t change. I can feel it creeping towards me and I want to die.\n\nI feel like she’s only my friend because she falsely believes I have potential. I feel like I’ve somehow manipulated her into thinking I’m a nice person. I feel like I’m so much worse than she thinks. I can’t understand why someone would care about me, other than they must be confused thinking of the wrong person. I can’t believe the situation I’m in. It happens every single time, and I never learn.\n\nI get her texts saying I need to try to get help and I just want to sink into the ground and die. I feel like I’ve done something really wrong and should stop talking to her. The answer is simple: stop avoiding therapy. Actually tell the therapist the truth. Everyone is sick of me including me.",
         "6"
        ],
        [
         "50676",
         "Hypochondria Who here has hypochondria?",
         "6"
        ],
        [
         "50677",
         "Creep Is Radiohead Creep the Anthem for AVPD or is our problem so much more comes?",
         "6"
        ],
        [
         "50678",
         "My first therapy appointment in a long time I have had bad luck with therapists in the past but decided to try again. I am mainly going to overcome a fear of driving. I have driven before back as a teenager and the process was going well but there were some things that happened that then hindered it. Before in therapy, I didn't have specific goals and I don't think that helped.",
         "6"
        ],
        [
         "50679",
         "I got in a bad car accident the other day and the worst part is having to talk to insurance people on the phone🤦‍♀️ \nmaybe this isn’t the best place to post this but literally why am I like this? I could’ve fucking died and I’m more scared of talking to people on the phone. maybe I’d find it a little funny if it wasn’t so pathetic. aren’t normal people supposed to be more traumatized about the actual crash/near death experience? meanwhile I’m over here basically having a panic attack over having to talk to people over the phone about it. this is ridiculous.",
         "6"
        ],
        [
         "50680",
         "I think I have AvPD (avoidant personality disorder) I have recently come across AvPD and I realized that I relate to almost all of the symptoms. First off, I’m very anxious in almost all social situations. This includes hanging around friends i’ve known for many many years, being around extended family (who i’ve also known for many years), being around coworkers, meeting new people, and even just going grocery shopping. \n\nI often try to avoid a lot of social situations which has definitely affected a lot of my relationships. I’m not very close with my friends or family anymore. I still hangout with them sometimes but it’s not on a very deep level. I don’t really open myself up to anyone. I’m scared of people figuring out my true personality and that they won’t like me for who I am. I hide lots of parts of my personality and not one person on this earth truly knows me. I’m close enough with my parents that I don’t get anxious around them, however I still hide many pieces of myself and don’t feel comfortable enough to show everything about myself. \n\nI have also struggled to find jobs that don’t make me anxious. It took me until I was 18 years old until I finally got my first job because of this. I currently work at a daycare and have worked here for about 7 months and my anxiety has seemed to get worse. I have been thinking about quitting for awhile now but am terrified of having the conversation with my boss about quitting. \n\nWhenever I’m at work, I feel inferior to everyone else. I feel like I have less experience, I overthink everything, and I am so awkward around my coworkers and parents. I feel like I’m incompetent and people don’t take me seriously because of my poor communication skills. My mind often goes blank when I’m asked questions and I don’t feel like I’m much of a help. I also try to focus completely on the kids and I would rather not form any real relationships with other coworkers. I try to keep conversations polite and small. I rarely talk about myself either, just enough to get by. I play it safe. \n\nI’ve always just felt like there was something wrong with me. Social anxiety kinda describes the way I feel but it seems like it’s more than just that.",
         "6"
        ],
        [
         "50681",
         "Anyone else terrified of dying alone? (finally found the will to post here after years of lurking)\n\nI’ve been living alone for all my adult years and I work from home. I don’t have any kind of social life and can easily spend several weeks without seeing or speaking to anyone. I do have family, but they all live far away and I don’t see them often.\n\nSo sometimes I can’t help but wonder what would happen if I ever have a stroke or a heart attack, or if I fall down the stairs, or if I choke on some food… I often read about people being found dead in their home several years or even decades after they died, and deep down I’m convinced that’s how I’ll end up. It really makes me feel scared and helpless and I don’t know how to cope with it.",
         "6"
        ],
        [
         "50682",
         "What is your height? I prefer males to answer this but if you feel it bothers you as a female too, plz feel free to choose as well.  I kind of want to see if it may be a risk factor for this PD or if it’s irrelevant… and it bothers me a lot.  Feel free to leave your thoughts below too.\n\n[View Poll](https://www.reddit.com/poll/120kyg0)",
         "6"
        ],
        [
         "50683",
         "Who knew Omg I'm home.   Finally a place I belong.",
         "6"
        ],
        [
         "50685",
         "Faking Yourself ? Does anybody else feel the need to fake yourself in front of others? \n\nI pretend to be happy and not depressed, because frankly, no one likes a depressed person. Even I know that. But beyond that, it’s like I have no personality. The only reason I can survive my office environment at work right now is because of an actual, real, and positive coworker. She has the personality that I wish I had, easy to talk to and very kind. But she’s leaving tomorrow.\n\nSo I’ve been faking my entire self. Happy, smiling, and trying to make conversation when all I really want to do is shut myself in my room. What can I even do at this point? How can I maintain a normal relationship without having to be the fakest person in the world ????",
         "6"
        ],
        [
         "50686",
         "I'm screwed, maybe many of you are too? One thing I'm aware of is after you've been disconnected from societal norms for a few years, it seems very difficult to return. I tend to stay away from looking at other people's lives, overall it is good but you also need an awareness of how far adrift you are and the standard you're compared against.\n\nThe average person is socially active, whereas were disengaged. They have a constant stream of chores hobbies events plans, messaging circles. In a day some days I speak to no one and can't even find the motivation to do anything new, even something like watching a movie I can put off. My point is that after a while when you look at the ''activity level'' of a normal average person I just feel inadequate. This is made worse reinforced by the fact that whenever i do try connect with others I get rejected thats because they can sense pretty early I have nothing going on for myself in these social areas and I am not so much like them. And thats the catch-22 because people excluding you stops you ever having anything.\n\nI'm incapable of organising a fun life, things, like viewing someone in family gathering and getting along with large groups of people and creating a good impression, are intimidating,nearly impossible for me. I'm behind in career, life experiences, life skills, energy. It's just difficult to even get a footing, iv been cut away for so long and many types have closed the door on me",
         "6"
        ],
        [
         "50687",
         "Does avpd stem from childhood trauma? Hi lovely community! I’m quite new on this forum! And just wondered if the origin of this is similar to what people refer to as an avoidant attachment style in which a lot of sources claim it’s due to neglect from parents in early childhood.\n\nWhat triggers avpd or what is the kind of trauma that sparks it? From what I’ve read so far it’s not something you are born with but rather develops with age?\nPlease correct me if I’m wrong!",
         "6"
        ],
        [
         "50688",
         "Anxiety after the gym Ever since I started going to the gym , I have fallen in love with it. I look forward to it everyday as it completely distracts me from whatever it is I might be dealing with in my head. I usually go in the evening and up until then I'm fine. But I swear that drive back from the gym and when I'm sitting in my room all alone, can be extremely excruciating sometimes. The anxiety feels like a balloon going up and up into the sky, eventually it will pop and come back down. It's just an awful feeling, and I feel it almost every time now. I wonder if anyone else has felt it or knows what I'm talking about? It's such a terribly lonely feeling I get. I think what really bothers me more than anything in my life is this belief I have that I am not a good person. I mean it's not like I'm cussing people out or being a dick to anyone. It's more like I treat people like they don't matter or mean anything to me, it's an extremely shitty thing to do. Like I see a lot of the same people every day, and I think normally this would result in you forming a bond with them slowly at least. But it's not like that, everyone that's not in my immediate family just gets kept at arm's length. Even then, the relationships I do have with my family almost seem to be held up by plastic and tape.",
         "6"
        ],
        [
         "50690",
         "Storytime... Hey, so... I've made some realizations in the shower as I do what most of us do and plan out the conversations I'll be having in two weeks because I know it's going to happen and I need to be ready or I'll just clam up and nothing is going to happen. We've all been there, most of us are still there, let's talk about what I'm thinking about in this little vent sesh. \n\nAlright, so I was showering, thinking about how akward it's going to be when I tell my friends some secrets. Wow! I know, sharing secrets! It freaking sucks!\n\nSo basically, I'm part of a church group, and these people are closer to me than my family because I don't like/trust my family and being around them is stressful. These friends that I hang out with all the time are my safe place and they make me feel...happy really. \n\nThough I don't share everything, these people are genuine and kind, and they always make me feel safe. It's just that, I am going on a mission trip with them this summer. Going to Africa, and it took them months to convince me to come with them. I still don't like the idea of going, but knowing that I'll be with them the entire time makes me feel much better. Besides, I used to fly a lot so the plane ride will be pretty nostalgic for me.  \n\nSo, as part of going on the trip, I have to do a few things. One thing that I have to do is research a topic on one part of the trip and give a presentation to oir team (9 people including me). I trust, love, and feel safe with everyone on this team, and all but one of them have been my closest friends for almost 2 years now. I couldn't ask for better friends. \n\nAnyways, the presentation I'm giving is in two weeks and I'll be discussing the entertainment part of the trip. Basically, I just have to research what kind of entertainment there is where we're going and make a small (mostly funny) slideshow. It doesn't even have to last 5 minutes, but honestly...this presentation is the least of my anxieties in this mess. \n\nAnother thing that I'm going to have to do is share my testimony. That is essentially a summarized version of your life story. I'll have to talk about my troubles, my past, my family, all of it. And these are my friends, they'll know if I'm holding back. But it scares me so much! Half of them don't actually know I have avpd! They just know that I've been going to therapy for a while and that I started taking medicine. Though, the medicine is kind of iffy really. \n\nAnyways, I'm super anxious about it, especially since I did something similar last year, but that was at the height of my emotional suppression. This time last year, I was so empty and emotionless. But of course, nobody knew. I was always masking my emotions and faking a smile. I didn't even know I was doing it, and when I gave my testimony for last year's mission, it was incomplete and full of holes. I talked about my lack of friends, but I was blind to the emotional abuse and neglect from my parents and siblings because I had convinced myself that I was just weak and that my pain was normal and even less than what everyone else had to go through. \n\nBut it's not like that, that's not how I should think about my past pain. It took so long for my friends to break my barriers, but they managed to do that and convince me to go to therapy.\n\n I'm much better now, but I'm also not suppressing my emotions. It was really hard at first because everything just hurt so much and it overwhelmed me. One moment I was putting on a face to fool everyone into thinking I was okay, but as soon as I was behind closed doors, I was hurting myself and cursing the world for letting my life be the way it was. \n\nThe fact that I have to go and tell my friends how I've been feeling over the last year is overwhelming, but I am not allowed to go on this mission unless I share my testimony. It's only fair though, everyone of us is sharing our testimony, no matter how much it hurts, we're going to be here for each other.\n\n\nIf you've actually read this far, I just want to say thank you. You're a special type of person, and whoever is in your life is truly lucky to know someone like you. And if they don't understand that, then know that I am thanking you for the kindness you have done for me just by reading this. Thank you.",
         "6"
        ],
        [
         "50691",
         "Am I doomed? I recently got diagnosed with AVPD and I feel completely hopeless. This is me, and I will stay like this my whole life. Am I going to have girlfriends? Am I going to get my dream job? Have a fun life? Travel around the world? Apparently not. Apparently I'm just a guy who will stay in his room for the rest of his life and be perpetually awkward at social gatherings. \nI'm 22 and I feel like I'm 60",
         "6"
        ],
        [
         "50692",
         "this disorder has stopped me from pushing myself for the better me. Was scrolling on tiktok when I saw my previous school mate 2 years younger than me on my FYP. She's a famous race car driver representing our country all over the world. She now just recently joined an F1 school. I know money and her being a nepo baby (her father was also a race car driver before) helped her achieve big things, but she also wouldn't be where she is right now if she wasn't great. \n\nI just realized that I'm 2 years older than her and I'm about to repeat my last year of highschool (i dropped out this mid school year because of mental health reasons), and I still don't even know wtf I wanna do in life. \n\nMy best friend is so fckin smart, she's studying right now to be a chemical engineer. My other best friend is also smart, all of his grade averages are 95+ (100 is the highest in my country). \n\nI'm surrounded by smart, and talented people with a future, people who will make a name for themselves and become rich in the future. People who have already carved their paths. While I'm here barely even making it through the day. I can't even go to school without wanting to off myself, while they're here working their ass off for their future.\n\nMy best friends don't even know I already dropped out of high school. I'm too embarrassed to tell them. How can I tell them? They would be too embarrassed to have a highschool dropout as a friend. What am i even doing with my life? I always avoid things, things that make me feel uncomfy or unsafe. Now look where that got me. Stuck inside the house wasting my life away. I'm gonna be 20 in october, my teen years are finally over. I didn't even get to experience the things that teenagers are \"supposed\" to experience. I can't believe smart people like my friends are friends with someone as pathetic as me.",
         "6"
        ],
        [
         "50693",
         "Do you think this a good description of our experiences? This is an excerpt from the introduction of a book called *On The Outside Looking In* by Daniela Grazia, about her experiences with social anxiety. \n\nI’ve used it to describe my experiences to others, but I have both social anxiety and AvPD so I worry if I’m not explaining from the ‘correct’ side (?). I’m also a psychology student and find it interesting to try to distinguish the two. I suppose it only matters in my head, but it does matter.\n\nThe quote (one long one, formatting issues):\n&gt;“It is a feeling that comes over me often, an old menace that stubbornly refuses to die. In classes, in coffee shops, in almost any activity where surrounded by potential friends. It is the profound feeling of alienness.\n\n&gt;”At any moment in the group conversation, something in me snaps. I look around the table at the other people blissfully talking, and I do not feel like one of them. I am not one of them. I am different, a foreigner, an alien, a stranger in a strange land.\n\n&gt;”And then the urge to run away, to hide, to be away from the people comes up. Sometimes I fight the urge and stay on, hiding my vast discomfort. Other times I do run away, cursing the cowardice and the shame, miserable in my misanthropy, but secure in my solitude.\n\n&gt;”There is something in the faces, in the voices of the others that I do not have. They are into the conversation. They live outside themselves, I live inside myself. They talk, listen, and laugh; I think, listen, and smile.\n\n&gt;”They are relaxed. I am not. I am never relaxed, except when I’m alone. Solitude is the only place where I can ever truly be known.\n\n&gt;”Yet I am not content with this. For the real me is lonely, desperately lonely, longing for intimacy, friendship and love. I long to be able to relax, to laugh, to talk, and converse amiably with other human beings. But I cannot. I idealize them in private and fear them in public.\n\n&gt;”Fear...fear drives the haunted mind. Fear tortures me, gnaws at me, and chases me from nearly everything I crave the most. But not even fear can conquer the longing, the desperate longing, the aching striving for meaning in life, for something other than the endless nights alone and unhugged, the dreams unshared, the life unnoticed.\n\n&gt;”When I am alone, I wish I was other people. When I am with other people, I wish I was alone. This contradiction is slowly, but ruthlessly destroying my soul.”",
         "6"
        ],
        [
         "50694",
         "How many people message you in an average day? \n\n[View Poll](https://www.reddit.com/poll/11yshfa)",
         "6"
        ],
        [
         "50695",
         "Does anyone read book called No More Mr Nice Guy? I've seen it recommended here often, and decide to check it. I'm only in the beginning but this book seems really misogynistic and like American conservative or something. I'm kinda want to dnf it but maybe there are something useful in it? What is your opinion if anyone read it?",
         "6"
        ],
        [
         "50696",
         "How can I function with unwanted thoughts that don't go away? I am 22 years old and male. I was diagnosed when I was 18. I've also been diagnosed with bipolar disorder. I live with my parents and I am NEET. I did not go to college. I've spent the majority of my childhood and adolescence getting some kind of therapy and/or psychiatric help, but I stopped about a year ago because I realized it was not going to help me. I have very low energy and fleeting motivation, and day to day I can't consistently do the basic tasks of caring for myself and maintaining my living space, in other words, living like an actual adult. The main reason these things are so hard for me is that when I'm doing chores and things where my mind can wander, I keep thinking about things I don't want to think about. I remember in detail the moments when people have insulted me or been cruel to me, or times when I've embarassed myself or made a mistake, for years, and I relive them constantly, and the wounds are continuously reopened and never heal. I often freeze up when these thoughts strike me and sometimes it makes me curse or say things out loud when I know I'm alone. Sometimes these thoughts can be powerful enough to ruin a good mood and ruin my day. It can make completing simple tasks so painful that I avoid them entirely and my quality of life suffers greatly and it affects the people that I live with. I spend almost all of my time constantly trying to distract myself and escape from these thoughts. Can anyone relate? How can I function like this?",
         "6"
        ],
        [
         "50697",
         "Okay y'all, for science, what's your MBTI (PART 1) Take the test [here](https://www.truity.com/test/type-finder-personality-test-new). DON'T - I REPEAT - DON'T TAKE THE TEST ON 16personalities. Highly inaccurate. All tests are, but whatever. Do it. \n\n[View Poll](https://www.reddit.com/poll/11z14d3)",
         "6"
        ],
        [
         "50698",
         "Resentment Ever hate people because you can't ever be like them? I have this person in my class and she's so perfect, so put together, she makes me jealous. If I'm ever good at something she'll be better.... its like I can never be better than her in anything.  I know I sound immature, dumb too but i needed to let this out.",
         "6"
        ],
        [
         "50699",
         "Those extrovert specimens who take pride in publicly pointing out that I've been silent throughout the party deserve a special place in hell Congratulations on making this invaluable observation. You have successfully made it even more awkward for me now.\n\nAnd these creatures exist in every f***ing party.",
         "6"
        ],
        [
         "50700",
         "How common is this for people with AvPD? Sorry, I'll try to keep it relatively short.\n\nI'm a 31-year-old male and I've never been diagnosed with AvPD, but while reading about the symptoms a month ago, things finally made sense to me why I act a certain way. I thought I just had some kind of social anxiety when I went to therapy several years ago, but I've felt that there has to be something else since I started feeling different in middle school. I've avoided people, responsibilites and have taken jobs where I can mostly avoid interpersonal communication. \n\nI do still have close friends, a great family and a girlfriend, but I still have this urge to self-isolate and be alone. However, I do try to help people whenever asked and I try to do well at my workplace. Right now, I have an opportunity to work longer at my current job and might even get a promotion 1-3 years  along the line in a position that I could basically hold for the rest of my working life. But it would surely involve a lot more responsibilites, speaking another language I don't know too well (I live in a bilingual country, where I speak the minority language) a lot more and of course, a ton more interpersonal communication. I've searched and applied for other jobs recently because my current contract will expire in a few months. I'm much more inclined to take a temp job for 1 and a half year with something I like more and less interpersonal communication than a potential permanent job position. \n\nIt probably sounds crazy for most people if they heard this, but this is genuinely how I feel. I let my feelings of inadequacy and wanting to avoid people control me instead of doing something that could secure my future. Is this at all relatable?",
         "6"
        ],
        [
         "50701",
         "Any advice is greatly appreciated I have AvPD and I am too afraid to ask for help. Even if I found the courage to find a therapist, I am a minor so I would also have to tell my parents (that just feels impossible). Do you guys have ideas of small steps I could take so I can work my way up to having the courage to get help? (I struggle with things like ordering food at restaurants so is there anything easier than that?)",
         "6"
        ],
        [
         "50702",
         "Finally deactivated Facebook. Where I am from, everybody is on Facebook. That anxiety inducing place, where I never feel safe and I feel hated, invisible and dumb. Lately I've been spiralling and posted sad, angsty posts to people who don't care about me. Thankfully, I got only 60 \"friends\". Facebook made me feel more alone. I'm disabled and I don't go outside and I struggle with texting. I just don't get it. I don't have the energy. I kept deleting my posts, feeling more ashamed. I need it for something that's work related and still ongoing. But enough. I don't care if everyone is there, I rather not feel like a burden and vent on Reddit. Having a profile with my name and face while I am utterly depressed? No thanks. It's not like I made any friends there. I really hope that my issues will be resolved and I won't go back and make a fool outta myself because no one cares.",
         "6"
        ],
        [
         "50703",
         "I desperately wish/ want to live alone but physically/financially cant I have always dreamed, goal of mine to get away from my family and all people if I worked hard I could live by myself and never ever have any obligation to speak to another human being so long as I had my ducks in a row both financially and in general (think ordering groceries and just leave it at the door, tip well, go away). I'm getting older and I hate how much I keep needing to interact with people, I don't have anyone in my life other than my parents but even they are on my last tiny nerves... except we've been needing eachothers help a lot. \n\nThey're old and need help, I'm getting older and sometimes need help when im getting sick or life happens. This flop era is turning into a flop lifetime. I'm drained seeing people. \n\nI just want to wake up 1 day in my own place and hear complete and total silence, never cross paths with another human being, never make eye contact or play the dumb game of \"social interaction\" and just have enough... stuff to get my needs met. Not even an escape I just want to exist solely.",
         "6"
        ],
        [
         "50704",
         "Do you also feel this way? I just really came across with this term avoidant personality disorder on Google by searching \"why do I want to be alone and live on my own away from others\" and I clicked on the very first article that came up. I couldn't give much clearer description of myself after reading the article and so I looked it up on reddit and surprisingly a subreddit exists dedicated to this. I desire to be alone and living on my own away from my family and people because I feel inhibited by them. I feel like I'm restricted and couldn't act my true self when I'm with them maybe because I'm afraid of being disliked by them? I'm not really sure and I'm still learning and knowing about myself. \n\nAm I the only one who feels this way?",
         "6"
        ],
        [
         "50705",
         "Once people get to know me they tend to love me... They only problem is they never get to know me, because the only possible way they will is if I am forced to be in a situation with repeated exposure to them, in which case I become familiar and slowly open up over the span of a week or two. It's downright disturbing how many times this has happened in my life, and it's depressing to think that those opportunities are few and far between now that I'm out of the primary environment they occur (school). I was so desperate at one point that, despite having everything people normally strive for (great career, money, success, etc.), I thought about joining the army just to meet people... Holy shit what is wrong with me.",
         "6"
        ],
        [
         "50707",
         "New to the community/diagnosis Hey all,\nI was just diagnosed with AvPD yesterday (along with some other things), and to be honest, I still feel a little shell shocked. I'm still learning more about the diagnoses obviously, but I wanted to ask what tips or lessons the community has for a newbie like me. What do you wish you knew when you were first diagnosed? I've been working on overhauling my brain for a few years, and I want to avoid falling into a trap where I just give up before I can fail (as it is my tendency to do).",
         "6"
        ],
        [
         "50708",
         "Dating apps even harder with AvPD Disclaimer: I dislike dating app culture in general. There's a hell of a lot more to a person than a few pictures and prompts.\n\n\\---\n\nIf I'm not attracted to someone then I won't swipe on them. If I am attracted to someone and there's even one thing on their profile that I lack or don't relate to then I won't swipe on them either. If there's someone I'm attracted to and there's nothing problematic in their profile, I won't swipe on them because I doubt they'll be interested in me. \n\nIn the end this leaves a very very small pool of people which I guess makes the whole thing pointless?",
         "6"
        ],
        [
         "50709",
         "My friend expressed that she is disappointed in me. Long story short, I felt tired and anxious and wanted to go home and skip one class. I didn't show up for this class in forever and didn't turn in much work, so she was worried I'd procrastinate like I did in 1 semester and fail.\n\nWhen I said I'll probably skip again, she looked at me with so much disappointment, and said \"I really should stop caring about people that much\".\n\nIt didn't register then, but it hits me now how hurt I am from her words. It feels like I'm not doing good enough, and I probably am not. So that day I forced myself to sit through the class and even showed some progress to my professor. But I can't get the look on her face out of my mind.\n\nTo be fair to her, I said I needed to leave in a kinda joking manner because that's my coping mechanism. So maybe she didn't think I felt as horrible as I did and thought i wanted to skip to avoid work.",
         "6"
        ],
        [
         "50710",
         "Feeling down lately It was my birthday the other day and it was a bit depressing. I spent it in the house eating a frozen pizza (it was good though lol) I didnt really do anything besides that and eating some cheesecake (also good). I was hurt that nobody wanted to celebrate with me besides my mom\n\nI dont have many friends besides a few online friends, and lately i feel like they're distancing themselves from me and I deal with rejection sensitivity and along with the avpd I feel like its all eating away at me. When I see my friends talk to eachother or plan things without me, it honestly hurts me and makes me want to cry. My friend says everybody cares and loves me, but in my avpd brain its not true and that they all would be happy if i was out of their lives\n\nTo make this worse, my therapist is moving soon and im scared i wont be able to find another therapist, especially someone as nice and understanding as them. She has helped me with a lot, and im scared i wont be able to find someone as nice and supportive as her. The last time i had a therapist who knew of my avpd, they screamed at me and said i couldnt be helped...\n\nThis is all just making me feel hopelessly depressed and feeling rejected 🫠",
         "6"
        ]
       ],
       "shape": {
        "columns": 2,
        "rows": 1077
       }
      },
      "text/html": [
       "<div>\n",
       "<style scoped>\n",
       "    .dataframe tbody tr th:only-of-type {\n",
       "        vertical-align: middle;\n",
       "    }\n",
       "\n",
       "    .dataframe tbody tr th {\n",
       "        vertical-align: top;\n",
       "    }\n",
       "\n",
       "    .dataframe thead th {\n",
       "        text-align: right;\n",
       "    }\n",
       "</style>\n",
       "<table border=\"1\" class=\"dataframe\">\n",
       "  <thead>\n",
       "    <tr style=\"text-align: right;\">\n",
       "      <th></th>\n",
       "      <th>text</th>\n",
       "      <th>labels</th>\n",
       "    </tr>\n",
       "  </thead>\n",
       "  <tbody>\n",
       "    <tr>\n",
       "      <th>50654</th>\n",
       "      <td>Is there anyone interested in joining a group ...</td>\n",
       "      <td>6</td>\n",
       "    </tr>\n",
       "    <tr>\n",
       "      <th>50656</th>\n",
       "      <td>Anyone else have nothing in common with other ...</td>\n",
       "      <td>6</td>\n",
       "    </tr>\n",
       "    <tr>\n",
       "      <th>50657</th>\n",
       "      <td>Being a ghost would be my ideal form of existe...</td>\n",
       "      <td>6</td>\n",
       "    </tr>\n",
       "    <tr>\n",
       "      <th>50659</th>\n",
       "      <td>I am hurting Lately I just feel like garbage. ...</td>\n",
       "      <td>6</td>\n",
       "    </tr>\n",
       "    <tr>\n",
       "      <th>50660</th>\n",
       "      <td>I can't cope with my job I work from home as a...</td>\n",
       "      <td>6</td>\n",
       "    </tr>\n",
       "    <tr>\n",
       "      <th>...</th>\n",
       "      <td>...</td>\n",
       "      <td>...</td>\n",
       "    </tr>\n",
       "    <tr>\n",
       "      <th>51849</th>\n",
       "      <td>Could you change and get better through lots o...</td>\n",
       "      <td>6</td>\n",
       "    </tr>\n",
       "    <tr>\n",
       "      <th>51851</th>\n",
       "      <td>How to not hurt peoples feelings I think I’m d...</td>\n",
       "      <td>6</td>\n",
       "    </tr>\n",
       "    <tr>\n",
       "      <th>51852</th>\n",
       "      <td>Do you have goals? I realised that I never rea...</td>\n",
       "      <td>6</td>\n",
       "    </tr>\n",
       "    <tr>\n",
       "      <th>51853</th>\n",
       "      <td>I feel like I’ve missed out on my teenage year...</td>\n",
       "      <td>6</td>\n",
       "    </tr>\n",
       "    <tr>\n",
       "      <th>51854</th>\n",
       "      <td>did a bunch of dxm yesterday and I realized th...</td>\n",
       "      <td>6</td>\n",
       "    </tr>\n",
       "  </tbody>\n",
       "</table>\n",
       "<p>1077 rows × 2 columns</p>\n",
       "</div>"
      ],
      "text/plain": [
       "                                                    text  labels\n",
       "50654  Is there anyone interested in joining a group ...       6\n",
       "50656  Anyone else have nothing in common with other ...       6\n",
       "50657  Being a ghost would be my ideal form of existe...       6\n",
       "50659  I am hurting Lately I just feel like garbage. ...       6\n",
       "50660  I can't cope with my job I work from home as a...       6\n",
       "...                                                  ...     ...\n",
       "51849  Could you change and get better through lots o...       6\n",
       "51851  How to not hurt peoples feelings I think I’m d...       6\n",
       "51852  Do you have goals? I realised that I never rea...       6\n",
       "51853  I feel like I’ve missed out on my teenage year...       6\n",
       "51854  did a bunch of dxm yesterday and I realized th...       6\n",
       "\n",
       "[1077 rows x 2 columns]"
      ]
     },
     "execution_count": 75,
     "metadata": {},
     "output_type": "execute_result"
    }
   ],
   "source": [
    "df[df['labels'] == 6]"
   ]
  },
  {
   "cell_type": "code",
   "execution_count": 60,
   "metadata": {},
   "outputs": [
    {
     "name": "stderr",
     "output_type": "stream",
     "text": [
      "/var/folders/4s/pf1zdv_x4_qcflpq4m943q0m0000gn/T/ipykernel_72876/2704669417.py:1: DeprecationWarning: DataFrameGroupBy.apply operated on the grouping columns. This behavior is deprecated, and in a future version of pandas the grouping columns will be excluded from the operation. Either pass `include_groups=False` to exclude the groupings or explicitly select the grouping columns after groupby to silence this warning.\n",
      "  balanced_df = df.groupby('labels', as_index=False, group_keys=False).apply(lambda s : s.sample(1077, replace=True))\n"
     ]
    },
    {
     "data": {
      "text/plain": [
       "labels\n",
       "0    1077\n",
       "1    1077\n",
       "2    1077\n",
       "3    1077\n",
       "4    1077\n",
       "5    1077\n",
       "6    1077\n",
       "Name: count, dtype: int64"
      ]
     },
     "execution_count": 60,
     "metadata": {},
     "output_type": "execute_result"
    }
   ],
   "source": [
    "balanced_df = df.groupby('labels', as_index=False, group_keys=False).apply(lambda s : s.sample(1077, replace=True))\n",
    "balanced_df['labels'].value_counts()"
   ]
  },
  {
   "cell_type": "code",
   "execution_count": 61,
   "metadata": {},
   "outputs": [],
   "source": [
    "train_df, val_df = train_test_split(balanced_df, test_size=.2, random_state=42)"
   ]
  },
  {
   "cell_type": "code",
   "execution_count": 62,
   "metadata": {},
   "outputs": [],
   "source": [
    "train_ds = Dataset.from_pandas(train_df)\n",
    "val_ds = Dataset.from_pandas(val_df)"
   ]
  },
  {
   "cell_type": "code",
   "execution_count": 63,
   "metadata": {},
   "outputs": [],
   "source": [
    "tokenizer = BertTokenizer.from_pretrained('bert-base-uncased')"
   ]
  },
  {
   "cell_type": "code",
   "execution_count": 64,
   "metadata": {},
   "outputs": [],
   "source": [
    "def tokenize_function(examples):\n",
    "    #return tokenizer(examples[\"text\"], padding=\"max_length\", truncation=True)\n",
    "    return tokenizer(examples[\"text\"], padding=\"max_length\", truncation=True, max_length=128)"
   ]
  },
  {
   "cell_type": "code",
   "execution_count": 65,
   "metadata": {},
   "outputs": [
    {
     "name": "stderr",
     "output_type": "stream",
     "text": [
      "Map: 100%|██████████| 6031/6031 [00:09<00:00, 663.93 examples/s]\n",
      "Map: 100%|██████████| 1508/1508 [00:02<00:00, 716.88 examples/s]\n"
     ]
    }
   ],
   "source": [
    "tokenized_train = train_ds.map(tokenize_function, batched=True)\n",
    "tokenized_val = val_ds.map(tokenize_function, batched=True)"
   ]
  },
  {
   "cell_type": "code",
   "execution_count": 66,
   "metadata": {},
   "outputs": [
    {
     "name": "stderr",
     "output_type": "stream",
     "text": [
      "Some weights of BertForSequenceClassification were not initialized from the model checkpoint at bert-base-uncased and are newly initialized: ['classifier.bias', 'classifier.weight']\n",
      "You should probably TRAIN this model on a down-stream task to be able to use it for predictions and inference.\n"
     ]
    }
   ],
   "source": [
    "from transformers import BertForSequenceClassification, TrainingArguments, Trainer\n",
    "\n",
    "# Initialize model\n",
    "model = BertForSequenceClassification.from_pretrained(\n",
    "    'bert-base-uncased',\n",
    "    num_labels=len(labels)\n",
    ")"
   ]
  },
  {
   "cell_type": "code",
   "execution_count": 67,
   "metadata": {},
   "outputs": [
    {
     "name": "stderr",
     "output_type": "stream",
     "text": [
      "/opt/anaconda3/envs/mental_health_proj/lib/python3.10/site-packages/transformers/training_args.py:1611: FutureWarning: `evaluation_strategy` is deprecated and will be removed in version 4.46 of 🤗 Transformers. Use `eval_strategy` instead\n",
      "  warnings.warn(\n"
     ]
    }
   ],
   "source": [
    "training_args = TrainingArguments(\n",
    "    output_dir=\"./results\",\n",
    "    overwrite_output_dir=True,\n",
    "    learning_rate=2e-5,\n",
    "    per_device_train_batch_size=16,\n",
    "    per_device_eval_batch_size=16,\n",
    "    num_train_epochs=5,\n",
    "    weight_decay=0.01,\n",
    "    evaluation_strategy=\"epoch\",\n",
    "    save_strategy=\"epoch\",\n",
    "    load_best_model_at_end=True,\n",
    ")"
   ]
  },
  {
   "cell_type": "code",
   "execution_count": 68,
   "metadata": {},
   "outputs": [],
   "source": [
    "import numpy as np\n",
    "import evaluate\n",
    "\n",
    "metric = evaluate.load(\"f1\")\n",
    "def compute_metrics(eval_pred):\n",
    "    logits, labels = eval_pred\n",
    "    predictions = np.argmax(logits, axis=-1)\n",
    "    return metric.compute(predictions=predictions, references=labels, average=\"macro\")"
   ]
  },
  {
   "cell_type": "code",
   "execution_count": 69,
   "metadata": {},
   "outputs": [],
   "source": [
    "trainer = Trainer(\n",
    "    model=model,\n",
    "    args=training_args,\n",
    "    train_dataset=tokenized_train,\n",
    "    eval_dataset=tokenized_val,\n",
    "    compute_metrics=compute_metrics,\n",
    ")"
   ]
  },
  {
   "cell_type": "code",
   "execution_count": 70,
   "metadata": {},
   "outputs": [
    {
     "data": {
      "text/html": [
       "\n",
       "    <div>\n",
       "      \n",
       "      <progress value='1885' max='1885' style='width:300px; height:20px; vertical-align: middle;'></progress>\n",
       "      [1885/1885 1:00:25, Epoch 5/5]\n",
       "    </div>\n",
       "    <table border=\"1\" class=\"dataframe\">\n",
       "  <thead>\n",
       " <tr style=\"text-align: left;\">\n",
       "      <th>Epoch</th>\n",
       "      <th>Training Loss</th>\n",
       "      <th>Validation Loss</th>\n",
       "      <th>F1</th>\n",
       "    </tr>\n",
       "  </thead>\n",
       "  <tbody>\n",
       "    <tr>\n",
       "      <td>1</td>\n",
       "      <td>No log</td>\n",
       "      <td>0.694737</td>\n",
       "      <td>0.741602</td>\n",
       "    </tr>\n",
       "    <tr>\n",
       "      <td>2</td>\n",
       "      <td>1.035600</td>\n",
       "      <td>0.575308</td>\n",
       "      <td>0.804124</td>\n",
       "    </tr>\n",
       "    <tr>\n",
       "      <td>3</td>\n",
       "      <td>0.425000</td>\n",
       "      <td>0.571271</td>\n",
       "      <td>0.810868</td>\n",
       "    </tr>\n",
       "    <tr>\n",
       "      <td>4</td>\n",
       "      <td>0.227000</td>\n",
       "      <td>0.577744</td>\n",
       "      <td>0.818549</td>\n",
       "    </tr>\n",
       "    <tr>\n",
       "      <td>5</td>\n",
       "      <td>0.227000</td>\n",
       "      <td>0.610594</td>\n",
       "      <td>0.821992</td>\n",
       "    </tr>\n",
       "  </tbody>\n",
       "</table><p>"
      ],
      "text/plain": [
       "<IPython.core.display.HTML object>"
      ]
     },
     "metadata": {},
     "output_type": "display_data"
    },
    {
     "data": {
      "text/plain": [
       "TrainOutput(global_step=1885, training_loss=0.4747196490948017, metrics={'train_runtime': 3626.4986, 'train_samples_per_second': 8.315, 'train_steps_per_second': 0.52, 'total_flos': 1983617515104000.0, 'train_loss': 0.4747196490948017, 'epoch': 5.0})"
      ]
     },
     "execution_count": 70,
     "metadata": {},
     "output_type": "execute_result"
    }
   ],
   "source": [
    "trainer.train()"
   ]
  },
  {
   "cell_type": "code",
   "execution_count": 71,
   "metadata": {},
   "outputs": [
    {
     "data": {
      "text/html": [
       "\n",
       "    <div>\n",
       "      \n",
       "      <progress value='95' max='95' style='width:300px; height:20px; vertical-align: middle;'></progress>\n",
       "      [95/95 00:27]\n",
       "    </div>\n",
       "    "
      ],
      "text/plain": [
       "<IPython.core.display.HTML object>"
      ]
     },
     "metadata": {},
     "output_type": "display_data"
    },
    {
     "name": "stdout",
     "output_type": "stream",
     "text": [
      "Evaluation results: {'eval_loss': 0.5712706446647644, 'eval_f1': 0.8108678252015726, 'eval_runtime': 28.1462, 'eval_samples_per_second': 53.577, 'eval_steps_per_second': 3.375, 'epoch': 5.0}\n"
     ]
    }
   ],
   "source": [
    "evaluation_results = trainer.evaluate()\n",
    "print(f\"Evaluation results: {evaluation_results}\")"
   ]
  },
  {
   "cell_type": "code",
   "execution_count": 72,
   "metadata": {},
   "outputs": [
    {
     "data": {
      "text/plain": [
       "('./model/final/tokenizer_config.json',\n",
       " './model/final/special_tokens_map.json',\n",
       " './model/final/vocab.txt',\n",
       " './model/final/added_tokens.json')"
      ]
     },
     "execution_count": 72,
     "metadata": {},
     "output_type": "execute_result"
    }
   ],
   "source": [
    "model.save_pretrained('./model/final')\n",
    "tokenizer.save_pretrained('./model/final')"
   ]
  },
  {
   "cell_type": "code",
   "execution_count": 74,
   "metadata": {},
   "outputs": [],
   "source": [
    "import json\n",
    "with open(\"./model/final/label_mapping.json\", \"w\") as f:\n",
    "    json.dump({\"id_to_label\": id_to_label, \"label_to_id\": label_to_id}, f)"
   ]
  },
  {
   "cell_type": "code",
   "execution_count": null,
   "metadata": {},
   "outputs": [],
   "source": []
  }
 ],
 "metadata": {
  "kernelspec": {
   "display_name": "mental_health_proj",
   "language": "python",
   "name": "python3"
  },
  "language_info": {
   "codemirror_mode": {
    "name": "ipython",
    "version": 3
   },
   "file_extension": ".py",
   "mimetype": "text/x-python",
   "name": "python",
   "nbconvert_exporter": "python",
   "pygments_lexer": "ipython3",
   "version": "3.10.16"
  }
 },
 "nbformat": 4,
 "nbformat_minor": 2
}
